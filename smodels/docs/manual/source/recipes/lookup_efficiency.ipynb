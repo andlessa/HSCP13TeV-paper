{
 "metadata": {
  "kernelspec": {
   "display_name": "Python 2",
   "language": "python",
   "name": "python2"
  },
  "language_info": {
   "codemirror_mode": {
    "name": "ipython",
    "version": 2
   },
   "file_extension": ".py",
   "mimetype": "text/x-python",
   "name": "python",
   "nbconvert_exporter": "python",
   "pygments_lexer": "ipython2",
   "version": "2.7.12"
  },
  "name": "",
  "signature": "sha256:b684ed993b462e71c5a2ae94f3411fa75ba958e950d4c013c031b11c06c43e3c"
 },
 "nbformat": 3,
 "nbformat_minor": 0,
 "worksheets": [
  {
   "cells": [
    {
     "cell_type": "heading",
     "level": 1,
     "metadata": {},
     "source": [
      "How To: Look up the efficinecy of a particular result, for a particular set of masses"
     ]
    },
    {
     "cell_type": "code",
     "collapsed": false,
     "input": [
      "#Set up the path to SModelS installation folder if running on a different folder\n",
      "import sys,os\n",
      "sys.path.append(os.path.join(os.getenv(\"HOME\"),\"smodels/\"))"
     ],
     "language": "python",
     "metadata": {},
     "outputs": [],
     "prompt_number": 1
    },
    {
     "cell_type": "code",
     "collapsed": false,
     "input": [
      "#Import those parts of smodels that are needed for this exercise\n",
      "from smodels.tools.physicsUnits import GeV\n",
      "from smodels.experiment.databaseObj import Database"
     ],
     "language": "python",
     "metadata": {},
     "outputs": [],
     "prompt_number": 2
    },
    {
     "cell_type": "code",
     "collapsed": false,
     "input": [
      "## Load the database:\n",
      "databasePath = os.path.join(os.getenv(\"HOME\"),\"smodels-database/\")\n",
      "db = Database(databasePath)"
     ],
     "language": "python",
     "metadata": {},
     "outputs": [],
     "prompt_number": 3
    },
    {
     "cell_type": "heading",
     "level": 2,
     "metadata": {},
     "source": [
      "Look up efficiency for an Upper Limit-type result:"
     ]
    },
    {
     "cell_type": "code",
     "collapsed": false,
     "input": [
      "#Select desired result:\n",
      "resultID = [\"CMS-PAS-SUS-13-016\"]\n",
      "txname = [\"T1tttt\"]\n",
      "expResult = db.getExpResults(analysisIDs=resultID,txnames=txname,dataTypes='upperLimit')[0]\n",
      "print 'selected result:',expResult"
     ],
     "language": "python",
     "metadata": {},
     "outputs": [
      {
       "output_type": "stream",
       "stream": "stdout",
       "text": [
        "selected result: CMS-PAS-SUS-13-016:(0):T1tttt(1)\n"
       ]
      }
     ],
     "prompt_number": 4
    },
    {
     "cell_type": "code",
     "collapsed": false,
     "input": [
      "#Define the desired mass vector (must be consistent with the txname/simplified model):\n",
      "massesA = [[500*GeV, 150*GeV],[500*GeV, 150*GeV]]\n",
      "massesB = [[5000*GeV, 150*GeV],[5000*GeV, 150*GeV]]\n",
      "#For UL-type results, the efficiency is 1, if the mass is inside the grid or zero if it is outside:\n",
      "print 'efficiency for mass\\n',massesA,' is: ',expResult.getEfficiencyFor(mass=massesA,txname=\"T1tttt\")\n",
      "print 'efficiency for mass\\n',massesB,' is: ',expResult.getEfficiencyFor(mass=massesB,txname=\"T1tttt\")"
     ],
     "language": "python",
     "metadata": {},
     "outputs": [
      {
       "output_type": "stream",
       "stream": "stdout",
       "text": [
        "efficiency for mass\n",
        "[[5.00E+02 [GeV], 1.50E+02 [GeV]], [5.00E+02 [GeV], 1.50E+02 [GeV]]]  is:  1.0\n",
        "efficiency for mass\n",
        "[[5.00E+03 [GeV], 1.50E+02 [GeV]], [5.00E+03 [GeV], 1.50E+02 [GeV]]]  is:  0.0\n"
       ]
      }
     ],
     "prompt_number": 5
    },
    {
     "cell_type": "heading",
     "level": 2,
     "metadata": {
      "collapsed": false
     },
     "source": [
      "Look up efficiency for an Efficiency Map-type result:"
     ]
    },
    {
     "cell_type": "code",
     "collapsed": false,
     "input": [
      "#Select desired result:\n",
      "resultID = [\"CMS-PAS-SUS-13-016\"]\n",
      "txname = [\"T1tttt\"]\n",
      "expResult = db.getExpResults(analysisIDs=resultID,txnames=txname,dataTypes='efficiencyMap')[0]\n",
      "print 'selected result:',expResult"
     ],
     "language": "python",
     "metadata": {},
     "outputs": [
      {
       "output_type": "stream",
       "stream": "stdout",
       "text": [
        "selected result: CMS-PAS-SUS-13-016: sr0(1):T1tttt(1)\n"
       ]
      }
     ],
     "prompt_number": 6
    },
    {
     "cell_type": "code",
     "collapsed": false,
     "input": [
      "#For an efficiency map result one needs to specify the desired signal region (dataset) and mass\n",
      "masses = [[500*GeV, 150*GeV],[500*GeV, 150*GeV]]\n",
      "datasetID = 'sr0'\n",
      "print 'efficinecy for mass\\n ',masses,'\\n in dataset',datasetID,' is: ',expResult.getEfficiencyFor(mass=masses,txname=\"T1tttt\",dataset=datasetID)"
     ],
     "language": "python",
     "metadata": {},
     "outputs": [
      {
       "output_type": "stream",
       "stream": "stdout",
       "text": [
        "efficinecy for mass\n",
        "  [[5.00E+02 [GeV], 1.50E+02 [GeV]], [5.00E+02 [GeV], 1.50E+02 [GeV]]] \n",
        " in dataset sr0  is:  0.0010565\n"
       ]
      }
     ],
     "prompt_number": 7
    },
    {
     "cell_type": "code",
     "collapsed": true,
     "input": [],
     "language": "python",
     "metadata": {},
     "outputs": [],
     "prompt_number": null
    }
   ],
   "metadata": {}
  }
 ]
}