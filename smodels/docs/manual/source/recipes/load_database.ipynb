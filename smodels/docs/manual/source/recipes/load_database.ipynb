{
 "metadata": {
  "kernelspec": {
   "display_name": "Python 2",
   "language": "python",
   "name": "python2"
  },
  "language_info": {
   "codemirror_mode": {
    "name": "ipython",
    "version": 2
   },
   "file_extension": ".py",
   "mimetype": "text/x-python",
   "name": "python",
   "nbconvert_exporter": "python",
   "pygments_lexer": "ipython2",
   "version": "2.7.12"
  },
  "name": "",
  "signature": "sha256:3e485b4fd7a35169ffa643dd9849180d135255bc07030eade634110e4df771a5"
 },
 "nbformat": 3,
 "nbformat_minor": 0,
 "worksheets": [
  {
   "cells": [
    {
     "cell_type": "heading",
     "level": 1,
     "metadata": {},
     "source": [
      "How To: Load the database, selecting only a few results."
     ]
    },
    {
     "cell_type": "code",
     "collapsed": false,
     "input": [
      "#Set up the path to SModelS installation folder if running on a different folder\n",
      "import sys,os\n",
      "sys.path.append(os.path.join(os.getenv(\"HOME\"),\"smodels/\"))"
     ],
     "language": "python",
     "metadata": {},
     "outputs": [],
     "prompt_number": 1
    },
    {
     "cell_type": "code",
     "collapsed": false,
     "input": [
      "from smodels.experiment.databaseObj import Database\n",
      "from smodels.tools.physicsUnits import GeV"
     ],
     "language": "python",
     "metadata": {},
     "outputs": [],
     "prompt_number": 2
    },
    {
     "cell_type": "code",
     "collapsed": false,
     "input": [
      "## Load the database:\n",
      "dbPath = os.path.join(os.getenv(\"HOME\"),\"smodels-database/\")\n",
      "database = Database(dbPath)"
     ],
     "language": "python",
     "metadata": {},
     "outputs": [],
     "prompt_number": 3
    },
    {
     "cell_type": "heading",
     "level": 2,
     "metadata": {},
     "source": [
      "How to select results from one publication (or conference note)"
     ]
    },
    {
     "cell_type": "code",
     "collapsed": false,
     "input": [
      "#Select only the CMS SUS-12-028 conference note\n",
      "expID=[\"CMS-SUS-12-028\"]"
     ],
     "language": "python",
     "metadata": {},
     "outputs": [],
     "prompt_number": 4
    },
    {
     "cell_type": "code",
     "collapsed": false,
     "input": [
      "#Loads the selected analyses\n",
      "#(The INFO tells you that superseded analyses are not loaded, see below)\n",
      "results = database.getExpResults(analysisIDs=expID)"
     ],
     "language": "python",
     "metadata": {},
     "outputs": [],
     "prompt_number": 5
    },
    {
     "cell_type": "code",
     "collapsed": false,
     "input": [
      "#Print all the results selected:\n",
      "for exp in results:\n",
      "    print exp\n",
      "#Print the txnames constrained by the result in bracket notation:\n",
      "exp = results[0]\n",
      "for tx in exp.getTxNames():\n",
      "    print tx,'=',tx.constraint"
     ],
     "language": "python",
     "metadata": {},
     "outputs": [
      {
       "output_type": "stream",
       "stream": "stdout",
       "text": [
        "CMS-SUS-12-028:(0):T1,T1bbbb,T1tttt,T2,T2bb(5)\n",
        "T1 = [[[jet,jet]],[[jet,jet]]]\n",
        "T1bbbb = [[[b,b]],[[b,b]]]\n",
        "T1tttt = [[[t,t]],[[t,t]]]\n",
        "T2 = [[[jet]],[[jet]]]\n",
        "T2bb = [[[b]],[[b]]]\n"
       ]
      }
     ],
     "prompt_number": 6
    },
    {
     "cell_type": "code",
     "collapsed": false,
     "input": [
      "#Print ALL info fields available:\n",
      "exp = results[0]\n",
      "print exp.getAttributes()"
     ],
     "language": "python",
     "metadata": {},
     "outputs": [
      {
       "output_type": "stream",
       "stream": "stdout",
       "text": [
        "['comment', 'sqrts', 'private', 'txnameDataExp', 'validated', 'id', 'implementedBy', 'publication', 'axes', 'supersedes', 'lastUpdate', 'figureUrl', 'publishedData', 'dataUrl', 'conditionDescription', 'dataType', 'txName', 'txnameData', 'lumi', 'path', 'condition', 'dataId', 'constraint', 'url', 'arxiv', 'contact', 'prettyName']\n"
       ]
      }
     ],
     "prompt_number": 7
    },
    {
     "cell_type": "code",
     "collapsed": false,
     "input": [
      "#Print values for some of the info fields (always returned as a list):\n",
      "print 'sqrts=',exp.getValuesFor('sqrts')\n",
      "print 'lumi=',exp.getValuesFor('lumi')\n",
      "print 'dataType=',exp.getValuesFor('dataType')\n",
      "print 'txnames=',exp.getValuesFor('txName')"
     ],
     "language": "python",
     "metadata": {},
     "outputs": [
      {
       "output_type": "stream",
       "stream": "stdout",
       "text": [
        "sqrts= [8.00E+00 [TeV]]\n",
        "lumi= [1.17E+01 [1/fb]]\n",
        "dataType= ['upperLimit']\n",
        "txnames= ['T1bbbb', 'T1tttt', 'T2', 'T2bb', 'T1']\n"
       ]
      }
     ],
     "prompt_number": 8
    },
    {
     "cell_type": "code",
     "collapsed": false,
     "input": [
      "#To obtain the upper limit for a given mass vector and a given simplified model (txname)\n",
      "#Note that the number of masses in the mass vector must be consitent with the txname.\n",
      "#For the T1 txname, for instance:\n",
      "massesT1 = [[300*GeV,100*GeV],[300*GeV,100*GeV]]\n",
      "print 'xsection upper limit = ',exp.getUpperLimitFor(mass=massesT1,txname='T1')"
     ],
     "language": "python",
     "metadata": {},
     "outputs": [
      {
       "output_type": "stream",
       "stream": "stdout",
       "text": [
        "xsection upper limit =  2.11E+00 [pb]\n"
       ]
      }
     ],
     "prompt_number": 9
    },
    {
     "cell_type": "code",
     "collapsed": false,
     "input": [
      "#For the T2 analysis:\n",
      "massesT2 = [[300*GeV,50*GeV],[300*GeV,50*GeV]]\n",
      "print 'xsection upper limit = ',exp.getUpperLimitFor(mass=massesT2,txname='T2')"
     ],
     "language": "python",
     "metadata": {},
     "outputs": [
      {
       "output_type": "stream",
       "stream": "stdout",
       "text": [
        "xsection upper limit =  1.07E+00 [pb]\n"
       ]
      }
     ],
     "prompt_number": 10
    },
    {
     "cell_type": "code",
     "collapsed": false,
     "input": [
      "#If you try with the wrong mass format, an error will be printed:\n",
      "masses = [[300*GeV],[300*GeV,50*GeV]]\n",
      "print 'xsection upper limit = ',exp.getUpperLimitFor(mass=masses,txname='T2')"
     ],
     "language": "python",
     "metadata": {},
     "outputs": [
      {
       "output_type": "stream",
       "stream": "stderr",
       "text": [
        "ERROR in txnameObj.getValueFor() in 350: dimensional error. I have been asked to compare a 3-dimensional mass vector with 4-dimensional data!\n"
       ]
      },
      {
       "output_type": "stream",
       "stream": "stdout",
       "text": [
        "xsection upper limit =  None\n"
       ]
      }
     ],
     "prompt_number": 11
    },
    {
     "cell_type": "heading",
     "level": 2,
     "metadata": {},
     "source": [
      "How to load results for one simplified model (txname)"
     ]
    },
    {
     "cell_type": "code",
     "collapsed": false,
     "input": [
      "#It is also possible to load all the results for a single simplified (using the Txname convention)\n",
      "Txnames = [\"T1\"]\n",
      "T1results = database.getExpResults(txnames=Txnames)"
     ],
     "language": "python",
     "metadata": {},
     "outputs": [],
     "prompt_number": 12
    },
    {
     "cell_type": "code",
     "collapsed": false,
     "input": [
      "#Print all the results constraining the required Txname:\n",
      "for exp in T1results:\n",
      "    print exp.globalInfo.id #(or print exp.getValuesFor('id'))"
     ],
     "language": "python",
     "metadata": {},
     "outputs": [
      {
       "output_type": "stream",
       "stream": "stdout",
       "text": [
        "ATLAS-SUSY-2015-06\n",
        "CMS-PAS-SUS-15-002\n",
        "CMS-PAS-SUS-16-014\n",
        "CMS-PAS-SUS-16-015\n",
        "CMS-SUS-15-002\n",
        "ATLAS-CONF-2013-024\n",
        "ATLAS-CONF-2013-035\n",
        "ATLAS-CONF-2013-037\n",
        "ATLAS-CONF-2013-047\n",
        "ATLAS-CONF-2013-048\n",
        "ATLAS-CONF-2013-049\n",
        "ATLAS-CONF-2013-053\n",
        "ATLAS-CONF-2013-054\n",
        "ATLAS-CONF-2013-061\n",
        "ATLAS-CONF-2013-062\n",
        "ATLAS-CONF-2013-093\n",
        "ATLAS-SUSY-2013-02\n",
        "ATLAS-SUSY-2013-02\n",
        "CMS-SUS-12-028\n",
        "CMS-SUS-13-012\n",
        "CMS-SUS-13-012\n",
        "CMS-SUS-13-019\n"
       ]
      }
     ],
     "prompt_number": 13
    },
    {
     "cell_type": "heading",
     "level": 2,
     "metadata": {},
     "source": [
      "How to load all experimental results, including the superseded publications"
     ]
    },
    {
     "cell_type": "code",
     "collapsed": false,
     "input": [
      "#By default only non-supersed analyses are loaded:\n",
      "results = database.getExpResults()\n",
      "print 'Number of non-superseded results = ',len(results)"
     ],
     "language": "python",
     "metadata": {},
     "outputs": [
      {
       "output_type": "stream",
       "stream": "stdout",
       "text": [
        "Number of non-superseded results =  72\n"
       ]
      }
     ],
     "prompt_number": 14
    },
    {
     "cell_type": "code",
     "collapsed": false,
     "input": [
      "#To load all results (including the superseded ones), set useSuperseded=True\n",
      "allResults = database.getExpResults(useSuperseded=True)\n",
      "print 'Including superseded results =',len(allResults)"
     ],
     "language": "python",
     "metadata": {},
     "outputs": [
      {
       "output_type": "stream",
       "stream": "stdout",
       "text": [
        "Including superseded results = 88\n"
       ]
      }
     ],
     "prompt_number": 15
    },
    {
     "cell_type": "heading",
     "level": 2,
     "metadata": {},
     "source": [
      "How to selected upper-limit and efficiency map results:"
     ]
    },
    {
     "cell_type": "code",
     "collapsed": false,
     "input": [
      "#Get only upper-limit results:\n",
      "ULresults =  database.getExpResults(dataTypes=['upperLimit'])\n",
      "for exp in ULresults:\n",
      "    print exp.globalInfo.id,exp.getValuesFor('dataType')"
     ],
     "language": "python",
     "metadata": {},
     "outputs": [
      {
       "output_type": "stream",
       "stream": "stdout",
       "text": [
        "ATLAS-SUSY-2015-01 ['upperLimit']\n",
        "ATLAS-SUSY-2015-02 ['upperLimit']\n",
        "ATLAS-SUSY-2015-09 ['upperLimit']\n",
        "CMS-PAS-SUS-15-002 ['upperLimit']\n",
        "CMS-PAS-SUS-16-014 ['upperLimit']\n",
        "CMS-PAS-SUS-16-015 ['upperLimit']\n",
        "CMS-PAS-SUS-16-016 ['upperLimit']\n",
        "CMS-PAS-SUS-16-019 ['upperLimit']\n",
        "CMS-PAS-SUS-16-022 ['upperLimit']\n",
        "CMS-PAS-SUS-16-024 ['upperLimit']\n",
        "CMS-SUS-15-002 ['upperLimit']\n",
        "CMS-SUS-15-008 ['upperLimit']\n",
        "ATLAS-CONF-2013-007 ['upperLimit']\n",
        "ATLAS-CONF-2013-061 ['upperLimit']\n",
        "ATLAS-CONF-2013-089 ['upperLimit']\n",
        "ATLAS-SUSY-2013-02 ['upperLimit']\n",
        "ATLAS-SUSY-2013-04 ['upperLimit']\n",
        "ATLAS-SUSY-2013-05 ['upperLimit']\n",
        "ATLAS-SUSY-2013-08 ['upperLimit']\n",
        "ATLAS-SUSY-2013-09 ['upperLimit']\n",
        "ATLAS-SUSY-2013-11 ['upperLimit']\n",
        "ATLAS-SUSY-2013-12 ['upperLimit']\n",
        "ATLAS-SUSY-2013-15 ['upperLimit']\n",
        "ATLAS-SUSY-2013-16 ['upperLimit']\n",
        "ATLAS-SUSY-2013-18 ['upperLimit']\n",
        "ATLAS-SUSY-2013-19 ['upperLimit']\n",
        "ATLAS-SUSY-2013-23 ['upperLimit']\n",
        "CMS-PAS-SUS-13-016 ['upperLimit']\n",
        "CMS-PAS-SUS-13-018 ['upperLimit']\n",
        "CMS-PAS-SUS-13-023 ['upperLimit']\n",
        "CMS-SUS-12-024 ['upperLimit']\n",
        "CMS-SUS-12-028 ['upperLimit']\n",
        "CMS-SUS-13-002 ['upperLimit']\n",
        "CMS-SUS-13-004 ['upperLimit']\n",
        "CMS-SUS-13-006 ['upperLimit']\n",
        "CMS-SUS-13-007 ['upperLimit']\n",
        "CMS-SUS-13-011 ['upperLimit']\n",
        "CMS-SUS-13-012 ['upperLimit']\n",
        "CMS-SUS-13-013 ['upperLimit']\n",
        "CMS-SUS-13-019 ['upperLimit']\n",
        "CMS-SUS-14-010 ['upperLimit']\n",
        "CMS-SUS-14-021 ['upperLimit']\n"
       ]
      }
     ],
     "prompt_number": 16
    },
    {
     "cell_type": "code",
     "collapsed": false,
     "input": [
      "#Get only efficiency map results:\n",
      "EMresults =  database.getExpResults(dataTypes=['efficiencyMap'])\n",
      "for exp in EMresults:\n",
      "    print exp.globalInfo.id,exp.getValuesFor('dataType')"
     ],
     "language": "python",
     "metadata": {},
     "outputs": [
      {
       "output_type": "stream",
       "stream": "stdout",
       "text": [
        "ATLAS-SUSY-2015-01 ['efficiencyMap']\n",
        "ATLAS-SUSY-2015-02 ['efficiencyMap']\n",
        "ATLAS-SUSY-2015-06 ['efficiencyMap']\n",
        "ATLAS-CONF-2013-024 ['efficiencyMap']\n",
        "ATLAS-CONF-2013-035 "
       ]
      },
      {
       "output_type": "stream",
       "stream": "stdout",
       "text": [
        "['efficiencyMap']\n",
        "ATLAS-CONF-2013-037 ['efficiencyMap']\n",
        "ATLAS-CONF-2013-047 "
       ]
      },
      {
       "output_type": "stream",
       "stream": "stdout",
       "text": [
        "['efficiencyMap']\n",
        "ATLAS-CONF-2013-048 ['efficiencyMap']\n",
        "ATLAS-CONF-2013-049 "
       ]
      },
      {
       "output_type": "stream",
       "stream": "stdout",
       "text": [
        "['efficiencyMap']\n",
        "ATLAS-CONF-2013-053 "
       ]
      },
      {
       "output_type": "stream",
       "stream": "stdout",
       "text": [
        "['efficiencyMap']\n",
        "ATLAS-CONF-2013-054 "
       ]
      },
      {
       "output_type": "stream",
       "stream": "stdout",
       "text": [
        "['efficiencyMap']\n",
        "ATLAS-CONF-2013-061 "
       ]
      },
      {
       "output_type": "stream",
       "stream": "stdout",
       "text": [
        "['efficiencyMap']\n",
        "ATLAS-CONF-2013-062 "
       ]
      },
      {
       "output_type": "stream",
       "stream": "stdout",
       "text": [
        "['efficiencyMap']\n",
        "ATLAS-CONF-2013-093 ['efficiencyMap']\n",
        "ATLAS-SUSY-2013-02 ['efficiencyMap']\n",
        "ATLAS-SUSY-2013-04 "
       ]
      },
      {
       "output_type": "stream",
       "stream": "stdout",
       "text": [
        "['efficiencyMap']\n",
        "ATLAS-SUSY-2013-05 ['efficiencyMap']\n",
        "ATLAS-SUSY-2013-11 ['efficiencyMap']\n",
        "ATLAS-SUSY-2013-15 ['efficiencyMap']\n",
        "ATLAS-SUSY-2013-16 ['efficiencyMap']\n",
        "ATLAS-SUSY-2013-18 ['efficiencyMap']\n",
        "ATLAS-SUSY-2013-21 ['efficiencyMap']\n",
        "ATLAS-SUSY-2014-03 ['efficiencyMap']\n",
        "CMS-PAS-SUS-13-015 ['efficiencyMap']\n",
        "CMS-PAS-SUS-13-016 ['efficiencyMap']\n",
        "CMS-SUS-12-024 ['efficiencyMap']\n",
        "CMS-SUS-13-007 ['efficiencyMap']\n",
        "CMS-SUS-13-011 ['efficiencyMap']\n",
        "CMS-SUS-13-012 "
       ]
      },
      {
       "output_type": "stream",
       "stream": "stdout",
       "text": [
        "['efficiencyMap']\n",
        "CMS-SUS-13-013 ['efficiencyMap']\n"
       ]
      }
     ],
     "prompt_number": 17
    },
    {
     "cell_type": "code",
     "collapsed": true,
     "input": [],
     "language": "python",
     "metadata": {},
     "outputs": [],
     "prompt_number": null
    }
   ],
   "metadata": {}
  }
 ]
}