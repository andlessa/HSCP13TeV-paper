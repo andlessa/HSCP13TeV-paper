{
 "cells": [
  {
   "cell_type": "markdown",
   "metadata": {},
   "source": [
    "# How To: Compare theory predictions with experimental limits"
   ]
  },
  {
   "cell_type": "code",
   "execution_count": 1,
   "metadata": {},
   "outputs": [],
   "source": [
    "# Set up the path to SModelS installation folder\n",
    "import sys; sys.path.append(\".\"); import smodels_paths"
   ]
  },
  {
   "cell_type": "code",
   "execution_count": 2,
   "metadata": {},
   "outputs": [],
   "source": [
    "# Import those parts of smodels that are needed for this exercise\n",
    "# (We will assume the input is a SLHA file. For LHE files, use the lheDecomposer instead)\n",
    "from smodels.theory import slhaDecomposer\n",
    "from smodels.installation import installDirectory\n",
    "from smodels.tools.physicsUnits import fb, GeV\n",
    "from smodels.theory.theoryPrediction import theoryPredictionsFor\n",
    "from smodels.experiment.databaseObj import Database"
   ]
  },
  {
   "cell_type": "code",
   "execution_count": 3,
   "metadata": {},
   "outputs": [],
   "source": [
    "# Define the SLHA input file name\n",
    "filename=\"%s/inputFiles/slha/gluino_squarks.slha\" % installDirectory()"
   ]
  },
  {
   "cell_type": "code",
   "execution_count": 4,
   "metadata": {},
   "outputs": [
    {
     "name": "stdout",
     "output_type": "stream",
     "text": [
      "FastLim v1.1 efficiencies loaded. Please cite: arXiv:1402.0492, EPJC74 (2014) 11\n"
     ]
    }
   ],
   "source": [
    "# Load the database, do the decomposition and compute theory predictions:\n",
    "# (Look at the theory predictions HowTo to learn how to compute theory predictions)\n",
    "database = Database(\"official\")\n",
    "expResults = database.getExpResults()\n",
    "topList = slhaDecomposer.decompose(filename, sigcut = 0.03 * fb, doCompress=True, doInvisible=True,minmassgap = 5* GeV)\n",
    "allThPredictions = [theoryPredictionsFor(exp, topList) for exp in expResults]"
   ]
  },
  {
   "cell_type": "code",
   "execution_count": 5,
   "metadata": {},
   "outputs": [
    {
     "name": "stdout",
     "output_type": "stream",
     "text": [
      "\n",
      "Experimental Result: ATLAS-SUSY-2015-06 (efficiencyMap-type)\n",
      "Theory prediction xsec =  2.79E-04 [pb]\n",
      "Upper limit =  None\n",
      "Expected Upper limit =  None\n",
      "\n",
      "Experimental Result: CMS-PAS-SUS-16-022 (upperLimit-type)\n",
      "Theory prediction xsec =  3.50E-05 [pb]\n",
      "Upper limit =  1.08E-01 [pb]\n",
      "Expected Upper limit =  8.84E-02 [pb]\n",
      "\n",
      "Experimental Result: CMS-PAS-SUS-17-004 (upperLimit-type)\n",
      "Theory prediction xsec =  3.99E-02 [pb]\n",
      "Upper limit =  3.68E-01 [pb]\n",
      "Expected Upper limit =  None\n",
      "\n",
      "Experimental Result: CMS-PAS-SUS-17-004 (upperLimit-type)\n",
      "Theory prediction xsec =  2.07E-01 [pb]\n",
      "Upper limit =  1.57E+00 [pb]\n",
      "Expected Upper limit =  None\n",
      "\n",
      "Experimental Result: CMS-SUS-16-033 (upperLimit-type)\n",
      "Theory prediction xsec =  1.15E-02 [pb]\n",
      "Upper limit =  8.64E-03 [pb]\n",
      "Expected Upper limit =  None\n",
      "\n",
      "Experimental Result: CMS-SUS-16-033 (upperLimit-type)\n",
      "Theory prediction xsec =  7.53E-03 [pb]\n",
      "Upper limit =  6.79E-03 [pb]\n",
      "Expected Upper limit =  None\n",
      "\n",
      "Experimental Result: CMS-SUS-16-033 (upperLimit-type)\n",
      "Theory prediction xsec =  3.50E-05 [pb]\n",
      "Upper limit =  6.84E-03 [pb]\n",
      "Expected Upper limit =  None\n",
      "\n",
      "Experimental Result: CMS-SUS-16-034 (upperLimit-type)\n",
      "Theory prediction xsec =  3.99E-02 [pb]\n",
      "Upper limit =  1.57E+00 [pb]\n",
      "Expected Upper limit =  None\n",
      "\n",
      "Experimental Result: CMS-SUS-16-035 (upperLimit-type)\n",
      "Theory prediction xsec =  3.50E-05 [pb]\n",
      "Upper limit =  2.76E-02 [pb]\n",
      "Expected Upper limit =  None\n",
      "\n",
      "Experimental Result: CMS-SUS-16-036 (upperLimit-type)\n",
      "Theory prediction xsec =  7.53E-03 [pb]\n",
      "Upper limit =  9.30E-03 [pb]\n",
      "Expected Upper limit =  None\n",
      "\n",
      "Experimental Result: CMS-SUS-16-036 (upperLimit-type)\n",
      "Theory prediction xsec =  1.15E-02 [pb]\n",
      "Upper limit =  7.68E-03 [pb]\n",
      "Expected Upper limit =  None\n",
      "\n",
      "Experimental Result: CMS-SUS-16-036 (upperLimit-type)\n",
      "Theory prediction xsec =  3.50E-05 [pb]\n",
      "Upper limit =  1.46E-02 [pb]\n",
      "Expected Upper limit =  None\n",
      "\n",
      "Experimental Result: CMS-SUS-16-037 (upperLimit-type)\n",
      "Theory prediction xsec =  3.50E-05 [pb]\n",
      "Upper limit =  4.44E-03 [pb]\n",
      "Expected Upper limit =  None\n",
      "\n",
      "Experimental Result: CMS-SUS-16-039 (upperLimit-type)\n",
      "Theory prediction xsec =  3.99E-02 [pb]\n",
      "Upper limit =  4.68E-01 [pb]\n",
      "Expected Upper limit =  None\n",
      "\n",
      "Experimental Result: CMS-SUS-16-039 (upperLimit-type)\n",
      "Theory prediction xsec =  2.07E-01 [pb]\n",
      "Upper limit =  2.12E+00 [pb]\n",
      "Expected Upper limit =  None\n",
      "\n",
      "Experimental Result: CMS-SUS-16-041 (upperLimit-type)\n",
      "Theory prediction xsec =  3.50E-05 [pb]\n",
      "Upper limit =  2.53E-02 [pb]\n",
      "Expected Upper limit =  None\n",
      "\n",
      "Experimental Result: CMS-SUS-16-042 (upperLimit-type)\n",
      "Theory prediction xsec =  3.50E-05 [pb]\n",
      "Upper limit =  7.85E-03 [pb]\n",
      "Expected Upper limit =  None\n",
      "\n",
      "Experimental Result: CMS-SUS-16-043 (upperLimit-type)\n",
      "Theory prediction xsec =  2.07E-01 [pb]\n",
      "Upper limit =  1.27E+01 [pb]\n",
      "Expected Upper limit =  None\n",
      "\n",
      "Experimental Result: CMS-SUS-16-045 (upperLimit-type)\n",
      "Theory prediction xsec =  2.07E-01 [pb]\n",
      "Upper limit =  2.44E+00 [pb]\n",
      "Expected Upper limit =  None\n",
      "\n",
      "Experimental Result: CMS-SUS-16-050 (upperLimit-type)\n",
      "Theory prediction xsec =  3.50E-05 [pb]\n",
      "Upper limit =  5.50E-03 [pb]\n",
      "Expected Upper limit =  5.35E-03 [pb]\n",
      "\n",
      "Experimental Result: CMS-SUS-16-050-agg (efficiencyMap-type)\n",
      "Theory prediction xsec =  1.38E-07 [pb]\n",
      "Upper limit =  None\n",
      "Expected Upper limit =  None\n"
     ]
    },
    {
     "ename": "AttributeError",
     "evalue": "'CombinedDataSet' object has no attribute 'dataInfo'",
     "output_type": "error",
     "traceback": [
      "\u001b[0;31m---------------------------------------------------------------------------\u001b[0m",
      "\u001b[0;31mAttributeError\u001b[0m                            Traceback (most recent call last)",
      "\u001b[0;32m<ipython-input-5-1591d3e6cc38>\u001b[0m in \u001b[0;36m<module>\u001b[0;34m()\u001b[0m\n\u001b[1;32m      7\u001b[0m     \u001b[0;32mfor\u001b[0m \u001b[0mtheoryPred\u001b[0m \u001b[0;32min\u001b[0m \u001b[0mthPreds\u001b[0m\u001b[0;34m:\u001b[0m\u001b[0;34m\u001b[0m\u001b[0m\n\u001b[1;32m      8\u001b[0m         \u001b[0mexpID\u001b[0m \u001b[0;34m=\u001b[0m \u001b[0mtheoryPred\u001b[0m\u001b[0;34m.\u001b[0m\u001b[0mexpResult\u001b[0m\u001b[0;34m.\u001b[0m\u001b[0mglobalInfo\u001b[0m\u001b[0;34m.\u001b[0m\u001b[0mid\u001b[0m\u001b[0;34m\u001b[0m\u001b[0m\n\u001b[0;32m----> 9\u001b[0;31m         \u001b[0mdataType\u001b[0m \u001b[0;34m=\u001b[0m \u001b[0mtheoryPred\u001b[0m\u001b[0;34m.\u001b[0m\u001b[0mdataset\u001b[0m\u001b[0;34m.\u001b[0m\u001b[0mdataInfo\u001b[0m\u001b[0;34m.\u001b[0m\u001b[0mdataType\u001b[0m\u001b[0;34m\u001b[0m\u001b[0m\n\u001b[0m\u001b[1;32m     10\u001b[0m         \u001b[0mprint\u001b[0m \u001b[0;34m(\u001b[0m \u001b[0;34m\"\\nExperimental Result: %s (%s-type)\"\u001b[0m \u001b[0;34m%\u001b[0m\u001b[0;34m(\u001b[0m\u001b[0mexpID\u001b[0m\u001b[0;34m,\u001b[0m\u001b[0mdataType\u001b[0m\u001b[0;34m)\u001b[0m \u001b[0;34m)\u001b[0m \u001b[0;31m#Result ID and type\u001b[0m\u001b[0;34m\u001b[0m\u001b[0m\n\u001b[1;32m     11\u001b[0m         \u001b[0mprint\u001b[0m \u001b[0;34m(\u001b[0m \u001b[0;34m\"Theory prediction xsec = \"\u001b[0m\u001b[0;34m,\u001b[0m\u001b[0mtheoryPred\u001b[0m\u001b[0;34m.\u001b[0m\u001b[0mxsection\u001b[0m\u001b[0;34m.\u001b[0m\u001b[0mvalue\u001b[0m \u001b[0;34m)\u001b[0m\u001b[0;31m#Signal xsection*efficiency*BR\u001b[0m\u001b[0;34m\u001b[0m\u001b[0m\n",
      "\u001b[0;31mAttributeError\u001b[0m: 'CombinedDataSet' object has no attribute 'dataInfo'"
     ]
    }
   ],
   "source": [
    "# Print the value of each theory prediction for each experimental\n",
    "# result and the corresponding upper limit (see the obtain experimental upper limits HowTo to learn how\n",
    "# to compute the upper limits).\n",
    "# lso print the expected upper limit, if available\n",
    "for thPreds in allThPredictions:\n",
    "    if not thPreds: continue #skip results with no predictions\n",
    "    for theoryPred in thPreds:\n",
    "        expID = theoryPred.expResult.globalInfo.id\n",
    "        dataType = theoryPred.dataset.dataInfo.dataType\n",
    "        print ( \"\\nExperimental Result: %s (%s-type)\" %(expID,dataType) ) #Result ID and type \n",
    "        print ( \"Theory prediction xsec = \",theoryPred.xsection.value )#Signal xsection*efficiency*BR\n",
    "        print ( \"Upper limit = \",theoryPred.expResult.getUpperLimitFor(mass = theoryPred.mass, \n",
    "                                                              txname=theoryPred.txnames[0], \n",
    "                                                              dataID = theoryPred.dataset.dataInfo.dataId) )\n",
    "        print ( \"Expected Upper limit = \",theoryPred.expResult.getUpperLimitFor(mass = theoryPred.mass, \n",
    "                                                              txname=theoryPred.txnames[0], \n",
    "                                                              dataID = theoryPred.dataset.dataInfo.dataId,\n",
    "                                                               expected= True) )"
   ]
  }
 ],
 "metadata": {
  "kernelspec": {
   "display_name": "Python 3",
   "language": "python",
   "name": "python3"
  },
  "language_info": {
   "codemirror_mode": {
    "name": "ipython",
    "version": 3
   },
   "file_extension": ".py",
   "mimetype": "text/x-python",
   "name": "python",
   "nbconvert_exporter": "python",
   "pygments_lexer": "ipython3",
   "version": "3.6.5"
  }
 },
 "nbformat": 4,
 "nbformat_minor": 1
}
