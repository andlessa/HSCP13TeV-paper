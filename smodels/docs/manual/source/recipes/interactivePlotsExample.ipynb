{
 "cells": [
  {
   "cell_type": "markdown",
   "metadata": {},
   "source": [
    "### Import the plot creator"
   ]
  },
  {
   "cell_type": "code",
   "execution_count": 1,
   "metadata": {},
   "outputs": [],
   "source": [
    "# Set up the path to SModelS installation folder\n",
    "import sys,os\n",
    "sys.path.append(\".\")\n",
    "import smodels_paths\n",
    "from smodels.tools.interactivePlots import makePlots\n",
    "import smodels"
   ]
  },
  {
   "cell_type": "markdown",
   "metadata": {},
   "source": [
    "### Define the input folders, the parameters file and where to store the plots"
   ]
  },
  {
   "cell_type": "code",
   "execution_count": 2,
   "metadata": {},
   "outputs": [],
   "source": [
    "smodelsOutput = os.path.join(os.path.dirname(smodels.__file__), '../test/testFiles/scanExample/smodels-output')\n",
    "slhaFiles = os.path.join(os.path.dirname(smodels.__file__), '../test/testFiles/scanExample/slha')\n",
    "parameters = os.path.join(os.path.dirname(smodels.__file__), '../iplots_parameters.py')\n",
    "outputFolder = './iplots'\n",
    "npoints = -1 #If negative will use all the points in the folders"
   ]
  },
  {
   "cell_type": "markdown",
   "metadata": {},
   "source": [
    "### Create plots"
   ]
  },
  {
   "cell_type": "code",
   "execution_count": 3,
   "metadata": {},
   "outputs": [
    {
     "name": "stderr",
     "output_type": "stream",
     "text": [
      "INFO in interactivePlots.loadParameters() in 54: Reading parameters from ../../../../smodels/../iplots_parameters.py ...\n",
      "INFO in interactivePlots.loadData() in 180: Reading data folders ../../../../smodels/../test/testFiles/scanExample/smodels-output and ../../../../smodels/../test/testFiles/scanExample/slha ...\n",
      "INFO in interactivePlots.makePlots() in 223: Making plots...\n",
      "INFO in interactivePlots.makePlots() in 263: Generation of interactive plots finished. Go to: \n",
      " ./iplots/main.html \n",
      " to see the plots.\n"
     ]
    }
   ],
   "source": [
    "plotsOutput = makePlots(smodelsOutput,slhaFiles,outputFolder,parameters,npoints,verbosity='info')"
   ]
  },
  {
   "cell_type": "markdown",
   "metadata": {},
   "source": [
    "### Display the output"
   ]
  },
  {
   "cell_type": "code",
   "execution_count": 4,
   "metadata": {},
   "outputs": [],
   "source": [
    "from IPython.core.display import display,HTML"
   ]
  },
  {
   "cell_type": "code",
   "execution_count": 5,
   "metadata": {},
   "outputs": [
    {
     "data": {
      "text/html": [
       "<html><head><font size=6>Smodels interactive plots.</font></head><p>Analysis: <a href=Analysis_non-excluded.html>non-excluded</a> <a href=Analysis_excluded.html>excluded</a> <a href=Analysis_all.html>all</a> </p><p>r_max: <a href=r_max_non-excluded.html>non-excluded</a> <a href=r_max_excluded.html>excluded</a> <a href=r_max_all.html>all</a> </p><p>MT_max: <a href=MT_max_non-excluded.html>non-excluded</a> <a href=MT_max_excluded.html>excluded</a> <a href=MT_max_all.html>all</a> </p><p>chi2: <a href=chi2_non-excluded.html>non-excluded</a> <a href=chi2_excluded.html>excluded</a> <a href=chi2_all.html>all</a> </p><p>Tx: <a href=Tx_non-excluded.html>non-excluded</a> <a href=Tx_excluded.html>excluded</a> <a href=Tx_all.html>all</a> </p><p>SmodelS_excluded: <a href=SmodelS_excluded_non-excluded.html>non-excluded</a> <a href=SmodelS_excluded_excluded.html>excluded</a> <a href=SmodelS_excluded_all.html>all</a> </p><p>MT_asym_xsec: <a href=MT_asym_xsec_non-excluded.html>non-excluded</a> <a href=MT_asym_xsec_excluded.html>excluded</a> <a href=MT_asym_xsec_all.html>all</a> </p><p>MT_total_mxsec: <a href=MT_total_mxsec_non-excluded.html>non-excluded</a> <a href=MT_total_mxsec_excluded.html>excluded</a> <a href=MT_total_mxsec_all.html>all</a> </p><p>MT_outgrid_xsec: <a href=MT_outgrid_xsec_non-excluded.html>non-excluded</a> <a href=MT_outgrid_xsec_excluded.html>excluded</a> <a href=MT_outgrid_xsec_all.html>all</a> </p>"
      ],
      "text/plain": [
       "<IPython.core.display.HTML object>"
      ]
     },
     "metadata": {},
     "output_type": "display_data"
    }
   ],
   "source": [
    "#Main page (to open the plots go to the plots output folder and open them with the browser)\n",
    "mainFile = open(plotsOutput + '/main.html','r')\n",
    "display(HTML(mainFile.read()))\n",
    "mainFile.close()"
   ]
  },
  {
   "cell_type": "code",
   "execution_count": null,
   "metadata": {},
   "outputs": [],
   "source": []
  }
 ],
 "metadata": {
  "kernelspec": {
   "display_name": "Python 3",
   "language": "python",
   "name": "python3"
  },
  "language_info": {
   "codemirror_mode": {
    "name": "ipython",
    "version": 3
   },
   "file_extension": ".py",
   "mimetype": "text/x-python",
   "name": "python",
   "nbconvert_exporter": "python",
   "pygments_lexer": "ipython3",
   "version": "3.6.3"
  }
 },
 "nbformat": 4,
 "nbformat_minor": 1
}
