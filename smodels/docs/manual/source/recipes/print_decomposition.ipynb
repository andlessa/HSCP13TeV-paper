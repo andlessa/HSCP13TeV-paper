{
 "metadata": {
  "kernelspec": {
   "display_name": "Python 2",
   "language": "python",
   "name": "python2"
  },
  "language_info": {
   "codemirror_mode": {
    "name": "ipython",
    "version": 2
   },
   "file_extension": ".py",
   "mimetype": "text/x-python",
   "name": "python",
   "nbconvert_exporter": "python",
   "pygments_lexer": "ipython2",
   "version": "2.7.12"
  },
  "name": "",
  "signature": "sha256:307d82f2d1584c315e699f0a4404f28d4d99f6f076cf4294ffb4143b21429198"
 },
 "nbformat": 3,
 "nbformat_minor": 0,
 "worksheets": [
  {
   "cells": [
    {
     "cell_type": "heading",
     "level": 1,
     "metadata": {},
     "source": [
      "How To: Print out the theoretical decomposition"
     ]
    },
    {
     "cell_type": "code",
     "collapsed": false,
     "input": [
      "#Set up the path to SModelS installation folder if running on a different folder\n",
      "import sys,os\n",
      "sys.path.append(os.path.join(os.getenv(\"HOME\"),\"smodels/\"))"
     ],
     "language": "python",
     "metadata": {},
     "outputs": [],
     "prompt_number": 1
    },
    {
     "cell_type": "code",
     "collapsed": false,
     "input": [
      "#Import those parts of smodels that are needed for this exercise\n",
      "#(We will assume the input is a SLHA file. For LHE files, use the lheDecomposer instead)\n",
      "from smodels.theory import slhaDecomposer\n",
      "from smodels.installation import installDirectory\n",
      "from smodels.tools.physicsUnits import fb, GeV"
     ],
     "language": "python",
     "metadata": {},
     "outputs": [],
     "prompt_number": 2
    },
    {
     "cell_type": "code",
     "collapsed": false,
     "input": [
      "#Define the SLHA file name\n",
      "filename=\"%s/inputFiles/slha/gluino_squarks.slha\" % installDirectory()"
     ],
     "language": "python",
     "metadata": {},
     "outputs": [],
     "prompt_number": 3
    },
    {
     "cell_type": "code",
     "collapsed": false,
     "input": [
      "#Perform the decomposition:\n",
      "listOfTopologies = slhaDecomposer.decompose(filename, sigcut = 0.5 * fb, \n",
      "                                            doCompress=True, doInvisible=True,minmassgap = 5* GeV)"
     ],
     "language": "python",
     "metadata": {},
     "outputs": [],
     "prompt_number": 4
    },
    {
     "cell_type": "code",
     "collapsed": false,
     "input": [
      "#Print a summary of all the topologies generated:\n",
      "for top in listOfTopologies:\n",
      "    print top.describe()"
     ],
     "language": "python",
     "metadata": {},
     "outputs": [
      {
       "output_type": "stream",
       "stream": "stdout",
       "text": [
        "number of vertices: [0, 1], number of vertex particles: [[], [1]], number of elements: 1\n",
        "number of vertices: [1, 1], number of vertex particles: [[1], [1]], number of elements: 7\n",
        "number of vertices: [1, 1], number of vertex particles: [[1], [2]], number of elements: 2\n",
        "number of vertices: [1, 2], number of vertex particles: [[1], [1, 1]], number of elements: 7\n",
        "number of vertices: [1, 2], number of vertex particles: [[1], [2, 1]], number of elements: 10\n",
        "number of vertices: [1, 2], number of vertex particles: [[2], [1, 1]], number of elements: 4\n",
        "number of vertices: [2, 2], number of vertex particles: [[1, 1], [1, 1]], number of elements: 7\n",
        "number of vertices: [2, 2], number of vertex particles: [[1, 1], [2, 1]], number of elements: 25\n",
        "number of vertices: [2, 2], number of vertex particles: [[2, 1], [2, 1]], number of elements: 21\n"
       ]
      }
     ],
     "prompt_number": 5
    },
    {
     "cell_type": "code",
     "collapsed": false,
     "input": [
      "#To print specific information about othe i-th topology:\n",
      "i = 3\n",
      "top = listOfTopologies[i]\n",
      "print \"Number of vertices = \",top.vertnumb\n",
      "print \"Number of final states = \",top.vertparts\n",
      "print \"Number of elements = \",len(top.elementList)"
     ],
     "language": "python",
     "metadata": {},
     "outputs": [
      {
       "output_type": "stream",
       "stream": "stdout",
       "text": [
        "Number of vertices =  [1, 2]\n",
        "Number of final states =  [[1], [1, 1]]\n",
        "Number of elements =  7\n"
       ]
      }
     ],
     "prompt_number": 6
    },
    {
     "cell_type": "code",
     "collapsed": false,
     "input": [
      "#We can also print information for each element in the topology:\n",
      "for iel,element in enumerate(top.elementList):\n",
      "    print 'Element',iel,':',element.getParticles()\n",
      "    print 'masses=',element.getMasses()\n",
      "    print 'weight=',element.weight,'\\n'"
     ],
     "language": "python",
     "metadata": {},
     "outputs": [
      {
       "output_type": "stream",
       "stream": "stdout",
       "text": [
        "Element 0 : [[['W+']], [['q'], ['W-']]]\n",
        "masses= [[2.69E+02 [GeV], 1.29E+02 [GeV]], [9.94E+02 [GeV], 2.69E+02 [GeV], 1.29E+02 [GeV]]]\n",
        "weight= ['8.00E+00 [TeV]:1.67E-03 [pb] (1000001, 1000024)'] \n",
        "\n",
        "Element 1 : [[['W+']], [['q'], ['higgs']]]\n",
        "masses= [[2.69E+02 [GeV], 1.29E+02 [GeV]], [9.94E+02 [GeV], 2.69E+02 [GeV], 1.29E+02 [GeV]]]\n",
        "weight= ['8.00E+00 [TeV]:7.06E-04 [pb] (1000001, 1000024)'] \n",
        "\n",
        "Element 2 : [[['W-']], [['q'], ['W+']]]\n",
        "masses= [[2.69E+02 [GeV], 1.29E+02 [GeV]], [9.92E+02 [GeV], 2.69E+02 [GeV], 1.29E+02 [GeV]]]\n",
        "weight= ['8.00E+00 [TeV]:7.71E-04 [pb] (-1000024, 1000002)'] \n",
        "\n",
        "Element 3 : [[['higgs']], [['q'], ['W+']]]\n",
        "masses= [[2.69E+02 [GeV], 1.29E+02 [GeV]], [9.92E+02 [GeV], 2.69E+02 [GeV], 1.29E+02 [GeV]]]\n",
        "weight= ['8.00E+00 [TeV]:8.27E-04 [pb] (1000002, 1000023)'] \n",
        "\n",
        "Element 4 : [[['q']], [['q'], ['W+']]]\n",
        "masses= [[9.91E+02 [GeV], 1.29E+02 [GeV]], [9.92E+02 [GeV], 2.69E+02 [GeV], 1.29E+02 [GeV]]]\n",
        "weight= ['8.00E+00 [TeV]:1.51E-03 [pb] (1000002, 2000002)'] \n",
        "\n",
        "Element 5 : [[['q']], [['q'], ['W-']]]\n",
        "masses= [[9.91E+02 [GeV], 1.29E+02 [GeV]], [9.94E+02 [GeV], 2.69E+02 [GeV], 1.29E+02 [GeV]]]\n",
        "weight= ['8.00E+00 [TeV]:6.06E-04 [pb] (1000001, 2000002)'] \n",
        "\n",
        "Element 6 : [[['q']], [['q'], ['higgs']]]\n",
        "masses= [[9.91E+02 [GeV], 1.29E+02 [GeV]], [9.92E+02 [GeV], 2.69E+02 [GeV], 1.29E+02 [GeV]]]\n",
        "weight= ['8.00E+00 [TeV]:6.28E-04 [pb] (1000002, 2000002)'] \n",
        "\n"
       ]
      }
     ],
     "prompt_number": 7
    },
    {
     "cell_type": "code",
     "collapsed": false,
     "input": [],
     "language": "python",
     "metadata": {},
     "outputs": []
    }
   ],
   "metadata": {}
  }
 ]
}