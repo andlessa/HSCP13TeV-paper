{
 "cells": [
  {
   "cell_type": "markdown",
   "metadata": {},
   "source": [
    "# How To: Print out the theory predictions"
   ]
  },
  {
   "cell_type": "code",
   "execution_count": 1,
   "metadata": {},
   "outputs": [],
   "source": [
    "# Set up the path to SModelS installation folder \n",
    "import sys; sys.path.append(\".\"); import smodels_paths"
   ]
  },
  {
   "cell_type": "code",
   "execution_count": 2,
   "metadata": {},
   "outputs": [],
   "source": [
    "# Import those parts of smodels that are needed for this exercise\n",
    "# (We will assume the input is a SLHA file. For LHE files, use the lheDecomposer instead)\n",
    "from smodels.theory import slhaDecomposer\n",
    "from smodels.installation import installDirectory\n",
    "from smodels.tools.physicsUnits import fb, GeV\n",
    "from smodels.theory.theoryPrediction import theoryPredictionsFor\n",
    "from smodels.experiment.databaseObj import Database"
   ]
  },
  {
   "cell_type": "code",
   "execution_count": 3,
   "metadata": {},
   "outputs": [],
   "source": [
    "# load the official database:\n",
    "database = Database( \"official\")\n",
    "# Get list of desired experimental results (by default all results):\n",
    "expResults = database.getExpResults()"
   ]
  },
  {
   "cell_type": "code",
   "execution_count": 4,
   "metadata": {},
   "outputs": [],
   "source": [
    "# Define the SLHA input file name\n",
    "filename=\"%s/inputFiles/slha/gluino_squarks.slha\" % installDirectory()"
   ]
  },
  {
   "cell_type": "code",
   "execution_count": 5,
   "metadata": {},
   "outputs": [],
   "source": [
    "# Perform the decomposition:\n",
    "topList = slhaDecomposer.decompose(filename, sigcut = 0.03 * fb, doCompress=True, doInvisible=True,minmassgap = 5* GeV)"
   ]
  },
  {
   "cell_type": "code",
   "execution_count": 6,
   "metadata": {},
   "outputs": [],
   "source": [
    "# Compute the theory prediction for each selected experimental result using the output from the decomposition:\n",
    "allThPredictions = [theoryPredictionsFor(exp, topList) for exp in expResults]"
   ]
  },
  {
   "cell_type": "code",
   "execution_count": 7,
   "metadata": {},
   "outputs": [
    {
     "name": "stdout",
     "output_type": "stream",
     "text": [
      "\n",
      "Experimental Result:  ATLAS-SUSY-2015-06 (efficiencyMap-type)\n",
      "Theory prediction xsec =  2.79E-04 [pb]\n",
      "Conditions violation (if any) =  None\n",
      "Dataset: SR5j\n",
      "Txnames =  ['T1']\n",
      "\n",
      "Experimental Result:  CMS-PAS-SUS-16-022 (upperLimit-type)\n",
      "Theory prediction xsec =  3.50E-05 [pb]\n",
      "Conditions violation (if any) =  None\n",
      "Dataset: None\n",
      "Txnames =  ['T1tttt']\n",
      "\n",
      "Experimental Result:  CMS-PAS-SUS-17-004 (upperLimit-type)\n",
      "Theory prediction xsec =  3.99E-02 [pb]\n",
      "Conditions violation (if any) =  None\n",
      "Dataset: None\n",
      "Txnames =  ['TChiWZ']\n",
      "\n",
      "Experimental Result:  CMS-PAS-SUS-17-004 (upperLimit-type)\n",
      "Theory prediction xsec =  2.07E-01 [pb]\n",
      "Conditions violation (if any) =  None\n",
      "Dataset: None\n",
      "Txnames =  ['TChiWH']\n",
      "\n",
      "Experimental Result:  CMS-SUS-16-033 (upperLimit-type)\n",
      "Theory prediction xsec =  7.53E-03 [pb]\n",
      "Conditions violation (if any) =  None\n",
      "Dataset: None\n",
      "Txnames =  ['T1']\n",
      "\n",
      "Experimental Result:  CMS-SUS-16-033 (upperLimit-type)\n",
      "Theory prediction xsec =  3.50E-05 [pb]\n",
      "Conditions violation (if any) =  None\n",
      "Dataset: None\n",
      "Txnames =  ['T1tttt']\n",
      "\n",
      "Experimental Result:  CMS-SUS-16-033 (upperLimit-type)\n",
      "Theory prediction xsec =  1.15E-02 [pb]\n",
      "Conditions violation (if any) =  None\n",
      "Dataset: None\n",
      "Txnames =  ['T2']\n",
      "\n",
      "Experimental Result:  CMS-SUS-16-034 (upperLimit-type)\n",
      "Theory prediction xsec =  3.99E-02 [pb]\n",
      "Conditions violation (if any) =  None\n",
      "Dataset: None\n",
      "Txnames =  ['TChiWZ']\n",
      "\n",
      "Experimental Result:  CMS-SUS-16-035 (upperLimit-type)\n",
      "Theory prediction xsec =  3.50E-05 [pb]\n",
      "Conditions violation (if any) =  None\n",
      "Dataset: None\n",
      "Txnames =  ['T1tttt']\n",
      "\n",
      "Experimental Result:  CMS-SUS-16-036 (upperLimit-type)\n",
      "Theory prediction xsec =  7.53E-03 [pb]\n",
      "Conditions violation (if any) =  None\n",
      "Dataset: None\n",
      "Txnames =  ['T1']\n",
      "\n",
      "Experimental Result:  CMS-SUS-16-036 (upperLimit-type)\n",
      "Theory prediction xsec =  1.15E-02 [pb]\n",
      "Conditions violation (if any) =  None\n",
      "Dataset: None\n",
      "Txnames =  ['T2']\n",
      "\n",
      "Experimental Result:  CMS-SUS-16-036 (upperLimit-type)\n",
      "Theory prediction xsec =  3.50E-05 [pb]\n",
      "Conditions violation (if any) =  None\n",
      "Dataset: None\n",
      "Txnames =  ['T1tttt']\n",
      "\n",
      "Experimental Result:  CMS-SUS-16-037 (upperLimit-type)\n",
      "Theory prediction xsec =  3.50E-05 [pb]\n",
      "Conditions violation (if any) =  None\n",
      "Dataset: None\n",
      "Txnames =  ['T1tttt']\n",
      "\n",
      "Experimental Result:  CMS-SUS-16-039 (upperLimit-type)\n",
      "Theory prediction xsec =  3.99E-02 [pb]\n",
      "Conditions violation (if any) =  None\n",
      "Dataset: None\n",
      "Txnames =  ['TChiWZ']\n",
      "\n",
      "Experimental Result:  CMS-SUS-16-039 (upperLimit-type)\n",
      "Theory prediction xsec =  2.07E-01 [pb]\n",
      "Conditions violation (if any) =  None\n",
      "Dataset: None\n",
      "Txnames =  ['TChiWH']\n",
      "\n",
      "Experimental Result:  CMS-SUS-16-041 (upperLimit-type)\n",
      "Theory prediction xsec =  3.50E-05 [pb]\n",
      "Conditions violation (if any) =  None\n",
      "Dataset: None\n",
      "Txnames =  ['T1tttt']\n",
      "\n",
      "Experimental Result:  CMS-SUS-16-042 (upperLimit-type)\n",
      "Theory prediction xsec =  3.50E-05 [pb]\n",
      "Conditions violation (if any) =  None\n",
      "Dataset: None\n",
      "Txnames =  ['T1tttt']\n",
      "\n",
      "Experimental Result:  CMS-SUS-16-043 (upperLimit-type)\n",
      "Theory prediction xsec =  2.07E-01 [pb]\n",
      "Conditions violation (if any) =  None\n",
      "Dataset: None\n",
      "Txnames =  ['TChiWH']\n",
      "\n",
      "Experimental Result:  CMS-SUS-16-045 (upperLimit-type)\n",
      "Theory prediction xsec =  2.07E-01 [pb]\n",
      "Conditions violation (if any) =  None\n",
      "Dataset: None\n",
      "Txnames =  ['TChiWH']\n",
      "\n",
      "Experimental Result:  CMS-SUS-16-050 (upperLimit-type)\n",
      "Theory prediction xsec =  3.50E-05 [pb]\n",
      "Conditions violation (if any) =  None\n",
      "Dataset: None\n",
      "Txnames =  ['T1tttt']\n",
      "\n",
      "Experimental Result:  CMS-SUS-16-050-agg (efficiencyMap-type)\n",
      "Theory prediction xsec =  1.38E-07 [pb]\n",
      "Conditions violation (if any) =  None\n",
      "Dataset: ar56\n",
      "Txnames =  ['T1tttt']\n"
     ]
    },
    {
     "ename": "AttributeError",
     "evalue": "'CombinedDataSet' object has no attribute 'dataInfo'",
     "output_type": "error",
     "traceback": [
      "\u001b[0;31m---------------------------------------------------------------------------\u001b[0m",
      "\u001b[0;31mAttributeError\u001b[0m                            Traceback (most recent call last)",
      "\u001b[0;32m<ipython-input-7-99ec66b3853a>\u001b[0m in \u001b[0;36m<module>\u001b[0;34m()\u001b[0m\n\u001b[1;32m      3\u001b[0m     \u001b[0;32mif\u001b[0m \u001b[0;32mnot\u001b[0m \u001b[0mthPreds\u001b[0m\u001b[0;34m:\u001b[0m \u001b[0;32mcontinue\u001b[0m \u001b[0;31m#skip results with no predictions\u001b[0m\u001b[0;34m\u001b[0m\u001b[0m\n\u001b[1;32m      4\u001b[0m     \u001b[0;32mfor\u001b[0m \u001b[0mtheoryPred\u001b[0m \u001b[0;32min\u001b[0m \u001b[0mthPreds\u001b[0m\u001b[0;34m:\u001b[0m\u001b[0;34m\u001b[0m\u001b[0m\n\u001b[0;32m----> 5\u001b[0;31m         \u001b[0mprint\u001b[0m \u001b[0;34m(\u001b[0m\u001b[0;34m\"\\nExperimental Result: \"\u001b[0m\u001b[0;34m,\u001b[0m\u001b[0mtheoryPred\u001b[0m\u001b[0;34m.\u001b[0m\u001b[0mexpResult\u001b[0m\u001b[0;34m.\u001b[0m\u001b[0mglobalInfo\u001b[0m\u001b[0;34m.\u001b[0m\u001b[0mid\u001b[0m\u001b[0;34m,\u001b[0m\u001b[0;34m\"(%s-type)\"\u001b[0m \u001b[0;34m%\u001b[0m\u001b[0mtheoryPred\u001b[0m\u001b[0;34m.\u001b[0m\u001b[0mdataset\u001b[0m\u001b[0;34m.\u001b[0m\u001b[0mdataInfo\u001b[0m\u001b[0;34m.\u001b[0m\u001b[0mdataType\u001b[0m\u001b[0;34m)\u001b[0m \u001b[0;31m#Result ID\u001b[0m\u001b[0;34m\u001b[0m\u001b[0m\n\u001b[0m\u001b[1;32m      6\u001b[0m         \u001b[0mprint\u001b[0m \u001b[0;34m(\u001b[0m\u001b[0;34m\"Theory prediction xsec = \"\u001b[0m\u001b[0;34m,\u001b[0m\u001b[0mtheoryPred\u001b[0m\u001b[0;34m.\u001b[0m\u001b[0mxsection\u001b[0m\u001b[0;34m.\u001b[0m\u001b[0mvalue\u001b[0m\u001b[0;34m)\u001b[0m \u001b[0;31m#Signal xsection*efficiency*BR\u001b[0m\u001b[0;34m\u001b[0m\u001b[0m\n\u001b[1;32m      7\u001b[0m         \u001b[0mprint\u001b[0m \u001b[0;34m(\u001b[0m\u001b[0;34m\"Conditions violation (if any) = \"\u001b[0m\u001b[0;34m,\u001b[0m\u001b[0mtheoryPred\u001b[0m\u001b[0;34m.\u001b[0m\u001b[0mconditions\u001b[0m\u001b[0;34m)\u001b[0m \u001b[0;31m#Condition values (for UL-type results)\u001b[0m\u001b[0;34m\u001b[0m\u001b[0m\n",
      "\u001b[0;31mAttributeError\u001b[0m: 'CombinedDataSet' object has no attribute 'dataInfo'"
     ]
    }
   ],
   "source": [
    "# Print information about each theory prediction for each result:\n",
    "for thPreds in allThPredictions:\n",
    "    if not thPreds: continue #skip results with no predictions\n",
    "    for theoryPred in thPreds:\n",
    "        print (\"\\nExperimental Result: \",theoryPred.expResult.globalInfo.id,\"(%s-type)\" %theoryPred.dataset.dataInfo.dataType) #Result ID\n",
    "        print (\"Theory prediction xsec = \",theoryPred.xsection.value) #Signal xsection*efficiency*BR\n",
    "        print (\"Conditions violation (if any) = \",theoryPred.conditions) #Condition values (for UL-type results)\n",
    "        print (\"Dataset:\",theoryPred.dataset.dataInfo.dataId)  #Corresponding signal region (for EM-type results)\n",
    "        print (\"Txnames = \",[str(tx) for tx in theoryPred.txnames]) #List of simplified models (txnames) contributing to the signal xsec        "
   ]
  }
 ],
 "metadata": {
  "kernelspec": {
   "display_name": "Python 3",
   "language": "python",
   "name": "python3"
  },
  "language_info": {
   "codemirror_mode": {
    "name": "ipython",
    "version": 3
   },
   "file_extension": ".py",
   "mimetype": "text/x-python",
   "name": "python",
   "nbconvert_exporter": "python",
   "pygments_lexer": "ipython3",
   "version": "3.6.5"
  }
 },
 "nbformat": 4,
 "nbformat_minor": 1
}
