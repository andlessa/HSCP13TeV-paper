{
 "metadata": {
  "name": "",
  "signature": "sha256:8f79898d680540bbf628a9dca6de3d05761dd7ddf64ffc83b6903d7c0dbad0e3"
 },
 "nbformat": 3,
 "nbformat_minor": 0,
 "worksheets": [
  {
   "cells": [
    {
     "cell_type": "heading",
     "level": 3,
     "metadata": {},
     "source": [
      "Load the browser"
     ]
    },
    {
     "cell_type": "code",
     "collapsed": false,
     "input": [
      "#Make sure smodels can be found\n",
      "import sys,os\n",
      "sys.path.append(os.path.join(os.getenv(\"HOME\"),'smodels'))\n",
      "from smodels.tools.physicsUnits import GeV\n",
      "from smodels.tools import databaseBrowser\n",
      "#First load the browser and check the total number of results loaded\n",
      "browser = databaseBrowser.Browser(os.path.join(os.getenv(\"HOME\"),'smodels-database'))\n",
      "print len(browser)"
     ],
     "language": "python",
     "metadata": {},
     "outputs": [
      {
       "output_type": "stream",
       "stream": "stdout",
       "text": [
        "96\n"
       ]
      }
     ],
     "prompt_number": 1
    },
    {
     "cell_type": "heading",
     "level": 3,
     "metadata": {},
     "source": [
      "Check the upper limit of a efficiency map result (95% C.L. limit for a given signal region)"
     ]
    },
    {
     "cell_type": "code",
     "collapsed": false,
     "input": [
      "#Check the upper limit for the ANA10-CUT1 signal region:\n",
      "print browser.getULForSR(expid='ATLAS-CONF-2013-053', datasetID='SRA mCT150')\n",
      "#Check the upper limit for the ANA6-CUT5 signal region:\n",
      "print browser.getULForSR(expid='ATLAS-CONF-2013-053', datasetID='SRA mCT350')"
     ],
     "language": "python",
     "metadata": {},
     "outputs": [
      {
       "output_type": "stream",
       "stream": "stdout",
       "text": [
        "1.90E+00 [fb]\n",
        "2.60E-01 [fb]"
       ]
      },
      {
       "output_type": "stream",
       "stream": "stdout",
       "text": [
        "\n"
       ]
      }
     ],
     "prompt_number": 2
    },
    {
     "cell_type": "heading",
     "level": 3,
     "metadata": {},
     "source": [
      "Check the upper limit for a upper limit result (95% C.L. limit for a given simplified model/txname and mass) "
     ]
    },
    {
     "cell_type": "code",
     "collapsed": false,
     "input": [
      "#Check the upper limit for T2bb simplified model with sbottom mass 300 GeV and LSP mass 100 GeV:\n",
      "print browser.getULFor(expid='ATLAS-CONF-2013-053', txname='T2bb', massarray = [[300.*GeV,100.*GeV],[300.*GeV,100.*GeV]])"
     ],
     "language": "python",
     "metadata": {},
     "outputs": [
      {
       "output_type": "stream",
       "stream": "stdout",
       "text": [
        "1.70E-01 [pb]\n"
       ]
      }
     ],
     "prompt_number": 3
    },
    {
     "cell_type": "code",
     "collapsed": false,
     "input": [
      "#Check the upper limit for T2bb simplified model with sbottom mass 400 GeV and LSP mass 150 GeV:\n",
      "print browser.getULFor(expid='ATLAS-CONF-2013-053', txname='T2bb', massarray = [[400.*GeV,150.*GeV],[400.*GeV,150.*GeV]])"
     ],
     "language": "python",
     "metadata": {},
     "outputs": [
      {
       "output_type": "stream",
       "stream": "stdout",
       "text": [
        "8.00E-02 [pb]\n"
       ]
      }
     ],
     "prompt_number": 4
    },
    {
     "cell_type": "code",
     "collapsed": false,
     "input": [
      "#No results will be given if masses outside the data grid are uses:\n",
      "print browser.getULFor(expid='ATLAS-CONF-2013-053', txname='T2bb', massarray = [[4000.*GeV,150.*GeV],[4000.*GeV,150.*GeV]])"
     ],
     "language": "python",
     "metadata": {},
     "outputs": [
      {
       "output_type": "stream",
       "stream": "stdout",
       "text": [
        "None\n"
       ]
      }
     ],
     "prompt_number": 5
    }
   ],
   "metadata": {}
  }
 ]
}