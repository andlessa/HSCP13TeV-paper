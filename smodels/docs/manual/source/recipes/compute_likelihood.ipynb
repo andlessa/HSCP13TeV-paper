{
 "metadata": {
  "kernelspec": {
   "display_name": "Python 2",
   "language": "python",
   "name": "python2"
  },
  "language_info": {
   "codemirror_mode": {
    "name": "ipython",
    "version": 2
   },
   "file_extension": ".py",
   "mimetype": "text/x-python",
   "name": "python",
   "nbconvert_exporter": "python",
   "pygments_lexer": "ipython2",
   "version": "2.7.12"
  },
  "name": "",
  "signature": "sha256:2c390777dbf2caf4d489660c52666aac5df2198e6079d7957b203ab6a1f0f949"
 },
 "nbformat": 3,
 "nbformat_minor": 0,
 "worksheets": [
  {
   "cells": [
    {
     "cell_type": "heading",
     "level": 1,
     "metadata": {},
     "source": [
      "How To: Compute likelihood and chi2"
     ]
    },
    {
     "cell_type": "code",
     "collapsed": false,
     "input": [
      "#Set up the path to SModelS installation folder if running on a different folder\n",
      "import sys,os\n",
      "sys.path.append(os.path.join(os.getenv(\"HOME\"),\"smodels/\"))"
     ],
     "language": "python",
     "metadata": {},
     "outputs": [],
     "prompt_number": 1
    },
    {
     "cell_type": "code",
     "collapsed": true,
     "input": [
      "from smodels.tools.statistics import likelihood,chi2"
     ],
     "language": "python",
     "metadata": {},
     "outputs": [],
     "prompt_number": 2
    },
    {
     "cell_type": "heading",
     "level": 2,
     "metadata": {},
     "source": [
      "How to compute the likelihood and chi2 from the number of events"
     ]
    },
    {
     "cell_type": "code",
     "collapsed": false,
     "input": [
      "#If the number of observed events, the number of expected background events,\n",
      "#its error and the number of signal events and its error are known, the likelihood\n",
      "#for the signal (assuming a truncated gaussian distribution for the background and signal uncertainties)\n",
      "#can be computed as:\n",
      "nSignal = 10.3\n",
      "deltaSignal = 1.\n",
      "nObserved = 5\n",
      "nBG = 4.2\n",
      "deltaBG = 0.71\n",
      "print 'likelihood=',likelihood(nSignal, nObserved, nBG, deltaBG, deltaSignal)\n",
      "print 'chi2=',chi2(nSignal, nObserved, nBG, deltaBG, deltaSignal)"
     ],
     "language": "python",
     "metadata": {},
     "outputs": [
      {
       "output_type": "stream",
       "stream": "stdout",
       "text": [
        "likelihood= "
       ]
      },
      {
       "output_type": "stream",
       "stream": "stdout",
       "text": [
        "0.00360343061739\n",
        "chi2= 7.67156184038\n"
       ]
      }
     ],
     "prompt_number": 3
    },
    {
     "cell_type": "heading",
     "level": 2,
     "metadata": {},
     "source": [
      "How to compute the likelihood and chi2 from a theory prediction"
     ]
    },
    {
     "cell_type": "code",
     "collapsed": false,
     "input": [
      "#In most cases one wants to compute the likelihood and chi2 for a given theory prediction computed by SModelS.\n",
      "#Below we generate theory predictions and compute the likelihood and chi2 values for them\n",
      "#First we import those parts of smodels that are needed for this exercise\n",
      "#(We will assume the input is a SLHA file. For LHE files, use the lheDecomposer instead)\n",
      "from smodels.theory import slhaDecomposer\n",
      "from smodels.installation import installDirectory\n",
      "from smodels.tools.physicsUnits import fb, GeV\n",
      "from smodels.theory.theoryPrediction import theoryPredictionsFor\n",
      "from smodels.experiment.databaseObj import Database"
     ],
     "language": "python",
     "metadata": {},
     "outputs": [],
     "prompt_number": 4
    },
    {
     "cell_type": "code",
     "collapsed": false,
     "input": [
      "#Define the SLHA input file name\n",
      "filename=\"%s/inputFiles/slha/gluino_squarks.slha\" % installDirectory()"
     ],
     "language": "python",
     "metadata": {},
     "outputs": [],
     "prompt_number": 5
    },
    {
     "cell_type": "code",
     "collapsed": false,
     "input": [
      "#Load the database, do the decomposition and compute theory predictions:\n",
      "#(Look at the theory predictions HowTo to learn how to compute theory predictions)\n",
      "databasepath = os.path.join(os.getenv(\"HOME\"),\"smodels-database/\")\n",
      "database = Database(databasepath)\n",
      "expResults = database.getExpResults()\n",
      "topList = slhaDecomposer.decompose(filename, sigcut = 0.03 * fb, doCompress=True, doInvisible=True,minmassgap = 5* GeV)\n",
      "allThPredictions = [theoryPredictionsFor(exp, topList) for exp in expResults]"
     ],
     "language": "python",
     "metadata": {},
     "outputs": [],
     "prompt_number": 6
    },
    {
     "cell_type": "code",
     "collapsed": false,
     "input": [
      "#For each theory prediction, compute the corresponding likelihood and chi2 values\n",
      "#(This is only possible for efficiency map-type results):\n",
      "for i,thPreds in enumerate(allThPredictions):\n",
      "    if not thPreds: continue #skip results with no predictions\n",
      "    expID = expResults[i].globalInfo.id\n",
      "    dataType = expResults[i].getValuesFor('dataType')[0]    \n",
      "    for theoryPred in thPreds:\n",
      "        #Compute the likelihood and chi2:\n",
      "        theoryPred.computeStatistics()\n",
      "        print \"\\nExperimental Result: %s (%s-type)\" %(expID,dataType) #Result ID and type\n",
      "        print \"Theory prediction xsec = \",theoryPred.xsection.value #Signal xsection*efficiency*BR\n",
      "        if dataType == 'efficiencyMap':\n",
      "            print 'likelihood =',theoryPred.likelihood,', chi2 =',theoryPred.chi2\n",
      "        else:\n",
      "            print \"(likelihood not available)\"\n"
     ],
     "language": "python",
     "metadata": {},
     "outputs": [
      {
       "output_type": "stream",
       "stream": "stdout",
       "text": [
        "\n",
        "Experimental Result: ATLAS-CONF-2013-047 (efficiencyMap-type)\n",
        "Theory prediction xsec =  5.24E-04 [pb]\n",
        "likelihood = 0.0183299791224 , chi2 = 0.0144740488591\n",
        "\n",
        "Experimental Result: ATLAS-CONF-2013-053 (efficiencyMap-type)"
       ]
      },
      {
       "output_type": "stream",
       "stream": "stdout",
       "text": [
        "\n",
        "Theory prediction xsec =  8.58E-08 [pb]\n",
        "likelihood = 0.198453614706 , chi2 = 0.120446148961\n",
        "\n",
        "Experimental Result: ATLAS-CONF-2013-054 (efficiencyMap-type)"
       ]
      },
      {
       "output_type": "stream",
       "stream": "stdout",
       "text": [
        "\n",
        "Theory prediction xsec =  6.52E-06 [pb]\n",
        "likelihood = 0.0925286098251 , chi2 = 0.0753119090777\n",
        "\n",
        "Experimental Result: ATLAS-CONF-2013-061 (efficiencyMap-type)"
       ]
      },
      {
       "output_type": "stream",
       "stream": "stdout",
       "text": [
        "\n",
        "Theory prediction xsec =  4.81E-07 [pb]\n",
        "likelihood = 0.191858665132 , chi2 = 0.120871686928\n",
        "\n",
        "Experimental Result: ATLAS-CONF-2013-089 (upperLimit-type)\n",
        "Theory prediction xsec =  6.62E-03 [pb]\n",
        "(likelihood not available)\n",
        "\n",
        "Experimental Result: ATLAS-SUSY-2013-02 (upperLimit-type)\n",
        "Theory prediction xsec =  3.92E-04 [pb]\n",
        "(likelihood not available)\n",
        "\n",
        "Experimental Result: ATLAS-SUSY-2013-02 (upperLimit-type)\n",
        "Theory prediction xsec =  6.62E-03 [pb]\n",
        "(likelihood not available)\n",
        "\n",
        "Experimental Result: ATLAS-SUSY-2013-02 (upperLimit-type)\n",
        "Theory prediction xsec =  1.77E-03 [pb]\n",
        "(likelihood not available)\n",
        "\n",
        "Experimental Result: ATLAS-SUSY-2013-02 (upperLimit-type)\n",
        "Theory prediction xsec =  9.07E-03 [pb]\n",
        "(likelihood not available)\n",
        "\n",
        "Experimental Result: ATLAS-SUSY-2013-02 (efficiencyMap-type)"
       ]
      },
      {
       "output_type": "stream",
       "stream": "stdout",
       "text": [
        "\n",
        "Theory prediction xsec =  5.53E-04 [pb]\n",
        "likelihood = 0.0254249702701 , chi2 = 0.0418465358664\n",
        "\n",
        "Experimental Result: ATLAS-SUSY-2013-04 (efficiencyMap-type)"
       ]
      },
      {
       "output_type": "stream",
       "stream": "stdout",
       "text": [
        "\n",
        "Theory prediction xsec =  1.52E-04 [pb]\n",
        "likelihood = 0.0873411814797 , chi2 = 0.190703542629\n",
        "\n",
        "Experimental Result: ATLAS-SUSY-2013-11 (upperLimit-type)\n",
        "Theory prediction xsec =  1.85E-02 [pb]\n",
        "(likelihood not available)\n",
        "\n",
        "Experimental Result: ATLAS-SUSY-2013-11 (efficiencyMap-type)"
       ]
      },
      {
       "output_type": "stream",
       "stream": "stdout",
       "text": [
        "\n",
        "Theory prediction xsec =  4.39E-05 [pb]\n",
        "likelihood = 0.0928683169279 , chi2 = 0.118619024997\n",
        "\n",
        "Experimental Result: ATLAS-SUSY-2013-12 (upperLimit-type)\n",
        "Theory prediction xsec =  1.85E-02 [pb]\n",
        "(likelihood not available)\n",
        "\n",
        "Experimental Result: CMS-SUS-12-028 (upperLimit-type)\n",
        "Theory prediction xsec =  1.77E-03 [pb]\n",
        "(likelihood not available)\n",
        "\n",
        "Experimental Result: CMS-SUS-12-028 (upperLimit-type)\n",
        "Theory prediction xsec =  3.92E-04 [pb]\n",
        "(likelihood not available)\n",
        "\n",
        "Experimental Result: CMS-SUS-13-006 (upperLimit-type)\n",
        "Theory prediction xsec =  1.85E-02 [pb]\n",
        "(likelihood not available)\n",
        "\n",
        "Experimental Result: CMS-SUS-13-006 (upperLimit-type)\n",
        "Theory prediction xsec =  9.59E-02 [pb]\n",
        "(likelihood not available)\n",
        "\n",
        "Experimental Result: CMS-SUS-13-012 (upperLimit-type)\n",
        "Theory prediction xsec =  3.92E-04 [pb]\n",
        "(likelihood not available)\n",
        "\n",
        "Experimental Result: CMS-SUS-13-012 (upperLimit-type)\n",
        "Theory prediction xsec =  1.77E-03 [pb]\n",
        "(likelihood not available)\n",
        "\n",
        "Experimental Result: CMS-SUS-13-012 (efficiencyMap-type)"
       ]
      },
      {
       "output_type": "stream",
       "stream": "stdout",
       "text": [
        "\n",
        "Theory prediction xsec =  8.05E-05 [pb]\n",
        "likelihood = 0.1606597132 , chi2 = 0.00979338300535\n",
        "\n",
        "Experimental Result: CMS-SUS-13-019 (upperLimit-type)\n",
        "Theory prediction xsec =  3.92E-04 [pb]\n",
        "(likelihood not available)\n",
        "\n",
        "Experimental Result: CMS-SUS-13-019 (upperLimit-type)\n",
        "Theory prediction xsec =  1.77E-03 [pb]\n",
        "(likelihood not available)\n"
       ]
      }
     ],
     "prompt_number": 7
    },
    {
     "cell_type": "code",
     "collapsed": false,
     "input": [],
     "language": "python",
     "metadata": {},
     "outputs": [],
     "prompt_number": null
    }
   ],
   "metadata": {}
  }
 ]
}