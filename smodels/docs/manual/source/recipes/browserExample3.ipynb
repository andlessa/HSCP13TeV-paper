{
 "metadata": {
  "name": "",
  "signature": "sha256:7ece29f53b6c70dbecc0036219e0250de78e501d6bddde8ab935c192253291ab"
 },
 "nbformat": 3,
 "nbformat_minor": 0,
 "worksheets": [
  {
   "cells": [
    {
     "cell_type": "heading",
     "level": 3,
     "metadata": {},
     "source": [
      "Load the browser"
     ]
    },
    {
     "cell_type": "code",
     "collapsed": false,
     "input": [
      "#Make sure smodels can be found\n",
      "import sys,os\n",
      "sys.path.append(os.path.join(os.getenv(\"HOME\"),'smodels'))\n",
      "from smodels.tools import databaseBrowser\n",
      "#First load the browser and check the total number of results loaded\n",
      "browser = databaseBrowser.Browser(os.path.join(os.getenv(\"HOME\"),'smodels-database'))\n",
      "print len(browser)"
     ],
     "language": "python",
     "metadata": {},
     "outputs": [
      {
       "output_type": "stream",
       "stream": "stdout",
       "text": [
        "96\n"
       ]
      }
     ],
     "prompt_number": 1
    },
    {
     "cell_type": "heading",
     "level": 3,
     "metadata": {},
     "source": [
      "Select only efficiency map results:"
     ]
    },
    {
     "cell_type": "code",
     "collapsed": false,
     "input": [
      "#Select only efficiency map results:\n",
      "browser.selectExpResultsWith(dataType ='efficiencyMap')\n",
      "#List the name of results loaded:\n",
      "print len(browser)"
     ],
     "language": "python",
     "metadata": {},
     "outputs": [
      {
       "output_type": "stream",
       "stream": "stdout",
       "text": [
        "33\n"
       ]
      }
     ],
     "prompt_number": 2
    },
    {
     "cell_type": "code",
     "collapsed": false,
     "input": [
      "#Now check the first result:\n",
      "print browser[0]"
     ],
     "language": "python",
     "metadata": {},
     "outputs": [
      {
       "output_type": "stream",
       "stream": "stdout",
       "text": [
        "ATLAS-SUSY-2015-01: SRA250,SRA350,SRA450,SRB(4):T2bb(1)\n"
       ]
      }
     ],
     "prompt_number": 3
    },
    {
     "cell_type": "code",
     "collapsed": false,
     "input": [
      "#Now restore all results to the browser:\n",
      "browser.loadAllResults()\n",
      "print len(browser)"
     ],
     "language": "python",
     "metadata": {},
     "outputs": [
      {
       "output_type": "stream",
       "stream": "stdout",
       "text": [
        "96\n"
       ]
      }
     ],
     "prompt_number": 4
    },
    {
     "cell_type": "heading",
     "level": 3,
     "metadata": {},
     "source": [
      "Select only upper limit results:"
     ]
    },
    {
     "cell_type": "code",
     "collapsed": false,
     "input": [
      "#Select only efficiency map results:\n",
      "browser.selectExpResultsWith(dataType='upperLimit')\n",
      "#List the name of results loaded:\n",
      "print len(browser)"
     ],
     "language": "python",
     "metadata": {},
     "outputs": [
      {
       "output_type": "stream",
       "stream": "stdout",
       "text": [
        "63\n"
       ]
      }
     ],
     "prompt_number": 5
    },
    {
     "cell_type": "code",
     "collapsed": false,
     "input": [
      "#Now check the first result:\n",
      "print browser[0]"
     ],
     "language": "python",
     "metadata": {},
     "outputs": [
      {
       "output_type": "stream",
       "stream": "stdout",
       "text": [
        "ATLAS-SUSY-2015-01:(0):T2bb(1)\n"
       ]
      }
     ],
     "prompt_number": 6
    },
    {
     "cell_type": "code",
     "collapsed": false,
     "input": [],
     "language": "python",
     "metadata": {},
     "outputs": [],
     "prompt_number": 6
    }
   ],
   "metadata": {}
  }
 ]
}