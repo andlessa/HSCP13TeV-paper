{
 "cells": [
  {
   "cell_type": "markdown",
   "metadata": {},
   "source": [
    "# How To: Find missing topologies that are not covered by the database"
   ]
  },
  {
   "cell_type": "code",
   "execution_count": 1,
   "metadata": {},
   "outputs": [],
   "source": [
    "# Set up the path to SModelS installation folder\n",
    "import sys; sys.path.append(\".\"); import smodels_paths"
   ]
  },
  {
   "cell_type": "code",
   "execution_count": 2,
   "metadata": {},
   "outputs": [],
   "source": [
    "# Import those parts of smodels that are needed for this exercise\n",
    "from smodels.tools.physicsUnits import TeV, GeV, fb\n",
    "from smodels.installation import installDirectory\n",
    "from smodels.theory import slhaDecomposer\n",
    "from smodels.theory.theoryPrediction import theoryPredictionsFor\n",
    "from smodels.experiment.databaseObj import Database\n",
    "from smodels.tools import coverage"
   ]
  },
  {
   "cell_type": "code",
   "execution_count": 3,
   "metadata": {},
   "outputs": [],
   "source": [
    "# Define the SLHA input file name\n",
    "filename=\"%s/inputFiles/slha/gluino_squarks.slha\" % installDirectory()"
   ]
  },
  {
   "cell_type": "code",
   "execution_count": 4,
   "metadata": {},
   "outputs": [],
   "source": [
    "# Load the database, do the decomposition and compute theory predictions:\n",
    "# (Look at the theory predictions HowTo to learn how to compute theory predictions)\n",
    "database = Database(\"official\")\n",
    "expResults = database.getExpResults()\n",
    "topList = slhaDecomposer.decompose(filename, sigcut = 0.03 * fb, doCompress=True, doInvisible=True,minmassgap = 5* GeV)\n",
    "#(Computing theory predictions will tag the elements which have been tested)\n",
    "allThPredictions = [theoryPredictionsFor(exp, topList) for exp in expResults]"
   ]
  },
  {
   "cell_type": "code",
   "execution_count": 5,
   "metadata": {},
   "outputs": [],
   "source": [
    "# Create missing Topologies object\n",
    "uncovered = coverage.Uncovered(topList)"
   ]
  },
  {
   "cell_type": "code",
   "execution_count": 6,
   "metadata": {},
   "outputs": [
    {
     "name": "stdout",
     "output_type": "stream",
     "text": [
      "Total missing topology cross section (fb):  2.936E+03\n",
      "Total cross section where we are outside the mass grid (fb):  3.257E+00\n",
      "Total cross section in long cascade decays (fb):  1.247E+03\n",
      "Total cross section in decays with asymmetric branches (fb):  1.667E+03\n"
     ]
    }
   ],
   "source": [
    "# Print basic information about coverage:\n",
    "print (\"Total missing topology cross section (fb): %10.3E\" %(uncovered.getMissingXsec()))\n",
    "print (\"Total cross section where we are outside the mass grid (fb): %10.3E\" %(uncovered.getOutOfGridXsec()))\n",
    "print (\"Total cross section in long cascade decays (fb): %10.3E\" %(uncovered.getLongCascadeXsec()))\n",
    "print (\"Total cross section in decays with asymmetric branches (fb): %10.3E\" %(uncovered.getAsymmetricXsec()))  "
   ]
  },
  {
   "cell_type": "code",
   "execution_count": 7,
   "metadata": {},
   "outputs": [
    {
     "name": "stdout",
     "output_type": "stream",
     "text": [
      "\n",
      "missing topology: [[],[]] ('MET', 'MET')\n",
      "Contributing elements:\n",
      "[[],[]] , xsection: ['8.00E+00 [TeV]:4.81E-04 [pb]', '1.30E+01 [TeV]:1.58E-03 [pb]']\n",
      "\n",
      "missing topology: [[],[[W]]] ('MET', 'MET')\n",
      "Contributing elements:\n",
      "[[],[[W+]]] , xsection: ['8.00E+00 [TeV]:2.40E-04 [pb]', '1.30E+01 [TeV]:2.63E-04 [pb]']\n",
      "\n",
      "missing topology: [[],[[jet]]] ('MET', 'MET')\n",
      "Contributing elements:\n",
      "[[],[[c]]] , xsection: ['8.00E+00 [TeV]:1.23E-05 [pb]', '1.30E+01 [TeV]:8.09E-05 [pb]']\n",
      "[[],[[q]]] , xsection: ['8.00E+00 [TeV]:1.19E-05 [pb]', '1.30E+01 [TeV]:1.83E-04 [pb]']\n",
      "[[],[[q]]] , xsection: ['8.00E+00 [TeV]:6.15E-04 [pb]', '1.30E+01 [TeV]:3.15E-03 [pb]']\n",
      "\n",
      "missing topology: [[],[[b,b]]] ('MET', 'MET')\n",
      "Contributing elements:\n",
      "[[],[[b,b]]] , xsection: ['8.00E+00 [TeV]:1.13E-05 [pb]', '1.30E+01 [TeV]:6.43E-05 [pb]']\n",
      "\n",
      "missing topology: [[],[[jet,jet]]] ('MET', 'MET')\n",
      "Contributing elements:\n",
      "[[],[[c,c]]] , xsection: ['8.00E+00 [TeV]:9.63E-05 [pb]', '1.30E+01 [TeV]:5.47E-04 [pb]']\n",
      "[[],[[q,q]]] , xsection: ['8.00E+00 [TeV]:1.54E-04 [pb]', '1.30E+01 [TeV]:8.76E-04 [pb]']\n"
     ]
    }
   ],
   "source": [
    "# Get list of topologies which are not tested by any result:\n",
    "missingTopos = uncovered.missingTopos\n",
    "# print information about the first few missing topologies and\n",
    "# the elements contributing to the topology: \n",
    "for top in missingTopos.topos[:5]:\n",
    "    print ('\\nmissing topology:',top.topo)\n",
    "    print ('Contributing elements:')\n",
    "    for el in sorted(top.contributingElements, key=lambda el: el.weight):\n",
    "        print (el,', xsection:',el.weight)"
   ]
  },
  {
   "cell_type": "code",
   "execution_count": 9,
   "metadata": {},
   "outputs": [
    {
     "name": "stdout",
     "output_type": "stream",
     "text": [
      "\n",
      "outside the grid topology: [[[jet]],[[t,t]]] ('MET', 'MET')\n",
      "Contributing elements:\n",
      "[[[q]],[[t+,t-]]] mass= [[9.91E+02 [GeV], 1.29E+02 [GeV]], [8.65E+02 [GeV], 1.29E+02 [GeV]]]\n",
      "[[[q]],[[t+,t-]]] mass= [[9.92E+02 [GeV], 1.29E+02 [GeV]], [8.65E+02 [GeV], 1.29E+02 [GeV]]]\n",
      "[[[q]],[[t+,t-]]] mass= [[9.92E+02 [GeV], 1.29E+02 [GeV]], [8.65E+02 [GeV], 1.29E+02 [GeV]]]\n",
      "\n",
      "outside the grid topology: [[[b],[higgs]],[[b],[higgs]]] ('MET', 'MET')\n",
      "Contributing elements:\n",
      "[[[b],[higgs]],[[b],[higgs]]] mass= [[9.59E+02 [GeV], 2.69E+02 [GeV], 1.29E+02 [GeV]], [9.59E+02 [GeV], 2.69E+02 [GeV], 1.29E+02 [GeV]]]\n",
      "\n",
      "outside the grid topology: [[[t],[W]],[[t],[W]]] ('MET', 'MET')\n",
      "Contributing elements:\n",
      "[[[t+],[W-]],[[t-],[W+]]] mass= [[9.59E+02 [GeV], 2.69E+02 [GeV], 1.29E+02 [GeV]], [9.59E+02 [GeV], 2.69E+02 [GeV], 1.29E+02 [GeV]]]\n",
      "[[[t+],[W-]],[[t-],[W+]]] mass= [[9.59E+02 [GeV], 2.69E+02 [GeV], 1.29E+02 [GeV]], [9.59E+02 [GeV], 7.46E+02 [GeV], 1.29E+02 [GeV]]]\n",
      "[[[t+],[W-]],[[t-],[W+]]] mass= [[9.59E+02 [GeV], 7.46E+02 [GeV], 1.29E+02 [GeV]], [9.59E+02 [GeV], 2.69E+02 [GeV], 1.29E+02 [GeV]]]\n"
     ]
    }
   ],
   "source": [
    "# Get list of topologies which are outside the upper limit and efficiency map grids:\n",
    "outsideGrid = uncovered.outsideGrid\n",
    "# print information about the first few missing topologies and\n",
    "# the elements contributing to the topology: \n",
    "for top in outsideGrid.topos[:5]:\n",
    "    print ('\\noutside the grid topology:',top.topo)\n",
    "    print ('Contributing elements:')\n",
    "    for el in top.contributingElements:\n",
    "        print (el,'mass=',el.getMasses())"
   ]
  },
  {
   "cell_type": "code",
   "execution_count": null,
   "metadata": {},
   "outputs": [],
   "source": []
  }
 ],
 "metadata": {
  "kernelspec": {
   "display_name": "Python 3",
   "language": "python",
   "name": "python3"
  },
  "language_info": {
   "codemirror_mode": {
    "name": "ipython",
    "version": 3
   },
   "file_extension": ".py",
   "mimetype": "text/x-python",
   "name": "python",
   "nbconvert_exporter": "python",
   "pygments_lexer": "ipython3",
   "version": "3.6.3"
  }
 },
 "nbformat": 4,
 "nbformat_minor": 1
}
