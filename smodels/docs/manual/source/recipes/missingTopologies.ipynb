{
 "metadata": {
  "kernelspec": {
   "display_name": "Python 2",
   "language": "python",
   "name": "python2"
  },
  "language_info": {
   "codemirror_mode": {
    "name": "ipython",
    "version": 2
   },
   "file_extension": ".py",
   "mimetype": "text/x-python",
   "name": "python",
   "nbconvert_exporter": "python",
   "pygments_lexer": "ipython2",
   "version": "2.7.12"
  },
  "name": "",
  "signature": "sha256:e93f8dff768e8a428b311f271c147661883cf9bc5d346c552bef1029d4e22b2e"
 },
 "nbformat": 3,
 "nbformat_minor": 0,
 "worksheets": [
  {
   "cells": [
    {
     "cell_type": "heading",
     "level": 1,
     "metadata": {},
     "source": [
      "How To: Find missing topologies that are not covered by the database"
     ]
    },
    {
     "cell_type": "code",
     "collapsed": false,
     "input": [
      "# Set up the path to SModelS installation folder if running on a different folder\n",
      "import sys,os\n",
      "sys.path.append(os.path.join(os.getenv(\"HOME\"),\"smodels/\"))"
     ],
     "language": "python",
     "metadata": {},
     "outputs": [],
     "prompt_number": 1
    },
    {
     "cell_type": "code",
     "collapsed": false,
     "input": [
      "# Import those parts of smodels that are needed for this exercise\n",
      "from smodels.tools.physicsUnits import TeV, GeV, fb\n",
      "from smodels.installation import installDirectory\n",
      "from smodels.theory import slhaDecomposer\n",
      "from smodels.theory.theoryPrediction import theoryPredictionsFor\n",
      "from smodels.experiment.databaseObj import Database\n",
      "from smodels.tools import coverage"
     ],
     "language": "python",
     "metadata": {},
     "outputs": [],
     "prompt_number": 2
    },
    {
     "cell_type": "code",
     "collapsed": false,
     "input": [
      "#Define the SLHA input file name\n",
      "filename=\"%s/inputFiles/slha/gluino_squarks.slha\" % installDirectory()"
     ],
     "language": "python",
     "metadata": {},
     "outputs": [],
     "prompt_number": 3
    },
    {
     "cell_type": "code",
     "collapsed": false,
     "input": [
      "#Load the database, do the decomposition and compute theory predictions:\n",
      "#(Look at the theory predictions HowTo to learn how to compute theory predictions)\n",
      "databasepath = os.path.join(os.getenv(\"HOME\"),\"smodels-database/\")\n",
      "database = Database(databasepath)\n",
      "expResults = database.getExpResults()\n",
      "topList = slhaDecomposer.decompose(filename, sigcut = 0.03 * fb, doCompress=True, doInvisible=True,minmassgap = 5* GeV)\n",
      "#(Computing theory predictions will tag the elements which have been tested)\n",
      "allThPredictions = [theoryPredictionsFor(exp, topList) for exp in expResults]"
     ],
     "language": "python",
     "metadata": {},
     "outputs": [],
     "prompt_number": 4
    },
    {
     "cell_type": "code",
     "collapsed": false,
     "input": [
      "# Create missing Topologies object\n",
      "uncovered = coverage.Uncovered(topList)"
     ],
     "language": "python",
     "metadata": {},
     "outputs": [],
     "prompt_number": 5
    },
    {
     "cell_type": "code",
     "collapsed": false,
     "input": [
      "#Print basic information about coverage:\n",
      "print \"Total missing topology cross section (fb): %10.3E\" %(uncovered.getMissingXsec())\n",
      "print \"Total cross section where we are outside the mass grid (fb): %10.3E\" %(uncovered.getOutOfGridXsec())\n",
      "print \"Total cross section in long cascade decays (fb): %10.3E\" %(uncovered.getLongCascadeXsec())\n",
      "print \"Total cross section in decays with asymmetric branches (fb): %10.3E\" %(uncovered.getAsymmetricXsec())        "
     ],
     "language": "python",
     "metadata": {},
     "outputs": [
      {
       "output_type": "stream",
       "stream": "stdout",
       "text": [
        "Total missing topology cross section (fb):  2.767E+02\n",
        "Total cross section where we are outside the mass grid (fb):  1.760E-01\n",
        "Total cross section in long cascade decays (fb):  1.096E+02\n",
        "Total cross section in decays with asymmetric branches (fb):  1.630E+02\n"
       ]
      }
     ],
     "prompt_number": 6
    },
    {
     "cell_type": "code",
     "collapsed": false,
     "input": [
      "# Get list of topologies which are not tested by any result:\n",
      "missingTopos = uncovered.missingTopos\n",
      "#Print information about the first few missing topologies and\n",
      "#the elements contributing to the topology: \n",
      "for top in missingTopos.topos[:5]:\n",
      "    print '\\nmissing topology:',top.topo\n",
      "    print 'Contributing elements:'\n",
      "    for el in sorted(top.contributingElements, key=lambda el: el.weight):\n",
      "        print el,', xsection:',el.weight"
     ],
     "language": "python",
     "metadata": {},
     "outputs": [
      {
       "output_type": "stream",
       "stream": "stdout",
       "text": [
        "\n",
        "missing topology: [[],[]]\n",
        "Contributing elements:\n",
        "[[],[]] , xsection: ['8.00E+00 [TeV]:4.81E-04 [pb] (1000022, 1000022)']\n",
        "\n",
        "missing topology: [[],[[W]]]\n",
        "Contributing elements:\n",
        "[[],[[W+]]] , xsection: ['8.00E+00 [TeV]:2.40E-04 [pb] (1000022, 1000024)']\n",
        "[[],[[W-]]] , xsection: ['8.00E+00 [TeV]:4.01E-05 [pb] (-1000024, 1000022)']\n",
        "\n",
        "missing topology: [[],[[Z]]]\n",
        "Contributing elements:\n",
        "[[],[[Z]]] , xsection: ['8.00E+00 [TeV]:3.24E-05 [pb] (1000022, 1000023)']\n",
        "\n",
        "missing topology: [[],[[higgs]]]\n",
        "Contributing elements:\n",
        "[[],[[higgs]]] , xsection: ['8.00E+00 [TeV]:1.68E-04 [pb] (1000022, 1000023)']\n",
        "\n",
        "missing topology: [[],[[jet]]]\n",
        "Contributing elements:\n",
        "[[],[[q]]] , xsection: ['8.00E+00 [TeV]:6.15E-04 [pb] (1000022, 2000002)']\n"
       ]
      }
     ],
     "prompt_number": 7
    },
    {
     "cell_type": "code",
     "collapsed": false,
     "input": [
      "# Get list of topologies which are outside the upper limit and efficiency map grids:\n",
      "outsideGrid = uncovered.outsideGrid\n",
      "#Print information about the first few missing topologies and\n",
      "#the elements contributing to the topology: \n",
      "for top in outsideGrid.topos[:5]:\n",
      "    print '\\noutside the grid topology:',top.topo\n",
      "    print 'Contributing elements:'\n",
      "    for el in sorted(top.contributingElements, key=lambda el: el.weight):\n",
      "        print el,'mass=',el.getMasses()"
     ],
     "language": "python",
     "metadata": {},
     "outputs": [
      {
       "output_type": "stream",
       "stream": "stdout",
       "text": [
        "\n",
        "outside the grid topology: [[[jet]],[[t,t]]]\n",
        "Contributing elements:\n",
        "[[[q]],[[t+,t-]]] mass= [[9.91E+02 [GeV], 1.29E+02 [GeV]], [8.65E+02 [GeV], 1.29E+02 [GeV]]]\n",
        "\n",
        "outside the grid topology: [[[t],[W]],[[t],[W]]]\n",
        "Contributing elements:\n",
        "[[[t+],[W-]],[[t-],[W+]]] mass= [[9.59E+02 [GeV], 2.69E+02 [GeV], 1.29E+02 [GeV]], [9.59E+02 [GeV], 2.69E+02 [GeV], 1.29E+02 [GeV]]]\n"
       ]
      }
     ],
     "prompt_number": 8
    },
    {
     "cell_type": "code",
     "collapsed": false,
     "input": [],
     "language": "python",
     "metadata": {},
     "outputs": []
    }
   ],
   "metadata": {}
  }
 ]
}