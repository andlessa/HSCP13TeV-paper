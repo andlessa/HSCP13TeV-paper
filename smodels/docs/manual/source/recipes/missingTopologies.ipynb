{
 "cells": [
  {
   "cell_type": "markdown",
   "metadata": {},
   "source": [
    "# How To: Find missing topologies that are not covered by the database"
   ]
  },
  {
   "cell_type": "code",
   "execution_count": 1,
   "metadata": {},
   "outputs": [],
   "source": [
    "# Set up the path to SModelS installation folder\n",
    "import sys; sys.path.append(\".\"); import smodels_paths"
   ]
  },
  {
   "cell_type": "code",
   "execution_count": 2,
   "metadata": {},
   "outputs": [],
   "source": [
    "# Import those parts of smodels that are needed for this exercise\n",
    "from smodels.tools.physicsUnits import TeV, GeV, fb\n",
    "from smodels.installation import installDirectory\n",
    "from smodels.theory import slhaDecomposer\n",
    "from smodels.theory.theoryPrediction import theoryPredictionsFor\n",
    "from smodels.experiment.databaseObj import Database\n",
    "from smodels.tools import coverage"
   ]
  },
  {
   "cell_type": "code",
   "execution_count": 3,
   "metadata": {},
   "outputs": [],
   "source": [
    "# Define the SLHA input file name\n",
    "filename=\"%s/inputFiles/slha/gluino_squarks.slha\" % installDirectory()"
   ]
  },
  {
   "cell_type": "code",
   "execution_count": null,
   "metadata": {},
   "outputs": [
    {
     "name": "stdout",
     "output_type": "stream",
     "text": [
      "FastLim v1.1 efficiencies loaded. Please cite: arXiv:1402.0492, EPJC74 (2014) 11\n"
     ]
    }
   ],
   "source": [
    "# Load the database, do the decomposition and compute theory predictions:\n",
    "# (Look at the theory predictions HowTo to learn how to compute theory predictions)\n",
    "database = Database(\"official\")\n",
    "expResults = database.getExpResults()\n",
    "topList = slhaDecomposer.decompose(filename, sigcut = 0.03 * fb, doCompress=True, doInvisible=True,minmassgap = 5* GeV)\n",
    "#(Computing theory predictions will tag the elements which have been tested)\n",
    "allThPredictions = [theoryPredictionsFor(exp, topList) for exp in expResults]"
   ]
  },
  {
   "cell_type": "code",
   "execution_count": null,
   "metadata": {},
   "outputs": [],
   "source": [
    "# Create missing Topologies object\n",
    "uncovered = coverage.Uncovered(topList)"
   ]
  },
  {
   "cell_type": "code",
   "execution_count": null,
   "metadata": {},
   "outputs": [],
   "source": [
    "# Print basic information about coverage:\n",
    "print (\"Total missing topology cross section (fb): %10.3E\" %(uncovered.getMissingXsec()))\n",
    "print (\"Total cross section where we are outside the mass grid (fb): %10.3E\" %(uncovered.getOutOfGridXsec()))\n",
    "print (\"Total cross section in long cascade decays (fb): %10.3E\" %(uncovered.getLongCascadeXsec()))\n",
    "print (\"Total cross section in decays with asymmetric branches (fb): %10.3E\" %(uncovered.getAsymmetricXsec()))  "
   ]
  },
  {
   "cell_type": "code",
   "execution_count": null,
   "metadata": {},
   "outputs": [],
   "source": [
    "# Get list of topologies which are not tested by any result:\n",
    "missingTopos = uncovered.missingTopos\n",
    "# print information about the first few missing topologies and\n",
    "# the elements contributing to the topology: \n",
    "for top in missingTopos.topos[:5]:\n",
    "    print ('\\nmissing topology:',top.topo)\n",
    "    print ('Contributing elements:')\n",
    "    for el in sorted(top.contributingElements, key=lambda el: el.weight):\n",
    "        print (el,', xsection:',el.weight)"
   ]
  },
  {
   "cell_type": "code",
   "execution_count": null,
   "metadata": {},
   "outputs": [],
   "source": [
    "# Get list of topologies which are outside the upper limit and efficiency map grids:\n",
    "outsideGrid = uncovered.outsideGrid\n",
    "# print information about the first few missing topologies and\n",
    "# the elements contributing to the topology: \n",
    "for top in outsideGrid.topos[:5]:\n",
    "    print ('\\noutside the grid topology:',top.topo)\n",
    "    print ('Contributing elements:')\n",
    "    for el in sorted(top.contributingElements, key=lambda el: el.weight):\n",
    "        print (el,'mass=',el.getMasses())"
   ]
  },
  {
   "cell_type": "code",
   "execution_count": null,
   "metadata": {},
   "outputs": [],
   "source": []
  }
 ],
 "metadata": {
  "kernelspec": {
   "display_name": "Python 3",
   "language": "python",
   "name": "python3"
  },
  "language_info": {
   "codemirror_mode": {
    "name": "ipython",
    "version": 3
   },
   "file_extension": ".py",
   "mimetype": "text/x-python",
   "name": "python",
   "nbconvert_exporter": "python",
   "pygments_lexer": "ipython3",
   "version": "3.6.5"
  }
 },
 "nbformat": 4,
 "nbformat_minor": 1
}
