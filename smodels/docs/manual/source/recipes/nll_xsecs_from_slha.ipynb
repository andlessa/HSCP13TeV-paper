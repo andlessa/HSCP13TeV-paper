{
 "metadata": {
  "kernelspec": {
   "display_name": "Python 3",
   "language": "python",
   "name": "python3"
  },
  "language_info": {
   "codemirror_mode": {
    "name": "ipython",
    "version": 3
   },
   "file_extension": ".py",
   "mimetype": "text/x-python",
   "name": "python",
   "nbconvert_exporter": "python",
   "pygments_lexer": "ipython3",
   "version": "3.5.2"
  },
  "name": "",
  "signature": "sha256:af5311d6b93710ff31d858028fd4217638ee75578743099a47ac50ddd0ec8ac9"
 },
 "nbformat": 3,
 "nbformat_minor": 0,
 "worksheets": [
  {
   "cells": [
    {
     "cell_type": "heading",
     "level": 1,
     "metadata": {},
     "source": [
      "How To: Compute NLL cross sections for a given SLHA file"
     ]
    },
    {
     "cell_type": "code",
     "collapsed": false,
     "input": [
      "#Set up the path to SModelS installation folder if running on a different folder\n",
      "import sys,os\n",
      "sys.path.append(os.path.join(os.getenv(\"HOME\"),\"smodels/\"))"
     ],
     "language": "python",
     "metadata": {},
     "outputs": [],
     "prompt_number": 1
    },
    {
     "cell_type": "code",
     "collapsed": false,
     "input": [
      "#Import those parts of smodels that are needed for this exercise\n",
      "from smodels.tools import xsecComputer\n",
      "from smodels.tools.physicsUnits import TeV, fb\n",
      "from smodels.installation import installDirectory\n",
      "from smodels.tools.xsecComputer import LO, NLL"
     ],
     "language": "python",
     "metadata": {},
     "outputs": [],
     "prompt_number": 2
    },
    {
     "cell_type": "code",
     "collapsed": false,
     "input": [
      "#Define the SLHA file name\n",
      "filename=\"%s/inputFiles/slha/gluino_squarks.slha\" % installDirectory()"
     ],
     "language": "python",
     "metadata": {},
     "outputs": [],
     "prompt_number": 3
    },
    {
     "cell_type": "code",
     "collapsed": false,
     "input": [
      "#Lets compute the NLL cross-sections for 8 TeV. The xsecComputer will first use Pythia to compute\n",
      "#the LO cross-sections and then NLLfast to compute the k-factors.\n",
      "#The output will contain only the processes contained in NLLfast (gluino and squark production)\n",
      "#For the Pythia step we have to define the number of MC events (1k)\n",
      "#(To see how to also include LO cross-sections for all processes check the LO HowTo)\n",
      "computer = xsecComputer.XSecComputer ( maxOrder=NLL, nevents = 100, pythiaVersion=6 )\n",
      "xsecsNLL=computer.compute(sqrts = 8*TeV, slhafile=filename )"
     ],
     "language": "python",
     "metadata": {},
     "outputs": [],
     "prompt_number": 4
    },
    {
     "cell_type": "code",
     "collapsed": false,
     "input": [
      "# the output is a XSectionList ...\n",
      "type(xsecsNLL)"
     ],
     "language": "python",
     "metadata": {},
     "outputs": [
      {
       "metadata": {},
       "output_type": "pyout",
       "prompt_number": 5,
       "text": [
        "smodels.theory.crossSection.XSectionList"
       ]
      }
     ],
     "prompt_number": 5
    },
    {
     "cell_type": "code",
     "collapsed": false,
     "input": [
      "#Each entry in the list contains the cross-section value:\n",
      "print(xsecsNLL[0].value)\n",
      "#The PDGs of the particles produced:\n",
      "print(xsecsNLL[0].pid)\n",
      "#And some additional info\n",
      "print(\"label =\",xsecsNLL[0].info.label,\"Sqrts =\",xsecsNLL[0].info.sqrts, \"QCD order =\",xsecsNLL[0].info.order)"
     ],
     "language": "python",
     "metadata": {},
     "outputs": [
      {
       "output_type": "stream",
       "stream": "stdout",
       "text": [
        "1.03E-01 [pb]\n",
        "(1000021, 2000002)\n",
        "('label =', '8 TeV (NLO+NLL)', 'Sqrts =', 8.00E+00 [TeV], 'QCD order =', 2)\n"
       ]
      }
     ],
     "prompt_number": 6
    },
    {
     "cell_type": "code",
     "collapsed": false,
     "input": [
      "#Finally, lets write the cross-sections back to the file \n",
      "#(will write only the cross-sections not overlapping the existing ones):\n",
      "computer.addXSecToFile(xsecsNLL,filename)"
     ],
     "language": "python",
     "metadata": {},
     "outputs": [
      {
       "metadata": {},
       "output_type": "pyout",
       "prompt_number": 7,
       "text": [
        "True"
       ]
      }
     ],
     "prompt_number": 7
    },
    {
     "cell_type": "code",
     "collapsed": true,
     "input": [],
     "language": "python",
     "metadata": {},
     "outputs": [],
     "prompt_number": null
    }
   ],
   "metadata": {}
  }
 ]
}