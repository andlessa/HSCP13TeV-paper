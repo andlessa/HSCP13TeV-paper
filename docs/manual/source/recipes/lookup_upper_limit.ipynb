{
 "metadata": {
  "kernelspec": {
   "display_name": "Python 2",
   "language": "python",
   "name": "python2"
  },
  "language_info": {
   "codemirror_mode": {
    "name": "ipython",
    "version": 2
   },
   "file_extension": ".py",
   "mimetype": "text/x-python",
   "name": "python",
   "nbconvert_exporter": "python",
   "pygments_lexer": "ipython2",
   "version": "2.7.12"
  },
  "name": "",
  "signature": "sha256:5cd966415e68e24f45c4f76ec7a5ad24179fee4aac22056b85a370e306c281a1"
 },
 "nbformat": 3,
 "nbformat_minor": 0,
 "worksheets": [
  {
   "cells": [
    {
     "cell_type": "heading",
     "level": 1,
     "metadata": {},
     "source": [
      "How To: Look up the upper limit of a particular result, for a particular set of masses"
     ]
    },
    {
     "cell_type": "code",
     "collapsed": false,
     "input": [
      "#Set up the path to SModelS installation folder if running on a different folder\n",
      "import sys,os\n",
      "sys.path.append(os.path.join(os.getenv(\"HOME\"),\"smodels/\"))"
     ],
     "language": "python",
     "metadata": {},
     "outputs": [],
     "prompt_number": 1
    },
    {
     "cell_type": "code",
     "collapsed": false,
     "input": [
      "#Import those parts of smodels that are needed for this exercise\n",
      "from smodels.tools.physicsUnits import GeV\n",
      "from smodels.experiment.databaseObj import Database"
     ],
     "language": "python",
     "metadata": {},
     "outputs": [],
     "prompt_number": 2
    },
    {
     "cell_type": "code",
     "collapsed": false,
     "input": [
      "## Load the database:\n",
      "databasePath = os.path.join(os.getenv(\"HOME\"),\"smodels-database/\")\n",
      "db = Database(databasePath)"
     ],
     "language": "python",
     "metadata": {},
     "outputs": [],
     "prompt_number": 3
    },
    {
     "cell_type": "heading",
     "level": 2,
     "metadata": {},
     "source": [
      "Look up upper limit for an Upper Limit-type result:"
     ]
    },
    {
     "cell_type": "code",
     "collapsed": false,
     "input": [
      "#Select desired result:\n",
      "resultID = [\"CMS-PAS-SUS-13-016\"]\n",
      "txname = [\"T1tttt\"]\n",
      "expResult = db.getExpResults(analysisIDs=resultID,txnames=txname,dataTypes='upperLimit')[0]\n",
      "print 'selected result:',expResult"
     ],
     "language": "python",
     "metadata": {},
     "outputs": [
      {
       "output_type": "stream",
       "stream": "stdout",
       "text": [
        "selected result: CMS-PAS-SUS-13-016:(0):T1tttt(1)\n"
       ]
      }
     ],
     "prompt_number": 4
    },
    {
     "cell_type": "code",
     "collapsed": false,
     "input": [
      "#Define the desired mass vector (must be consistent with the txname/simplified model):\n",
      "masses = [[500*GeV, 150*GeV],[500*GeV, 150*GeV]]\n",
      "print 'UL for mass\\n',masses,' is: ',expResult.getUpperLimitFor(mass=masses,txname=\"T1tttt\")"
     ],
     "language": "python",
     "metadata": {},
     "outputs": [
      {
       "output_type": "stream",
       "stream": "stdout",
       "text": [
        "UL for mass\n",
        "[[5.00E+02 [GeV], 1.50E+02 [GeV]], [5.00E+02 [GeV], 1.50E+02 [GeV]]]  is:  3.67E-01 [pb]\n"
       ]
      }
     ],
     "prompt_number": 5
    },
    {
     "cell_type": "heading",
     "level": 2,
     "metadata": {
      "collapsed": false
     },
     "source": [
      "Look up upper limit for an Efficiency Map-type result:"
     ]
    },
    {
     "cell_type": "code",
     "collapsed": false,
     "input": [
      "#Select desired result:\n",
      "resultID = [\"CMS-PAS-SUS-13-016\"]\n",
      "txname = [\"T1tttt\"]\n",
      "expResult = db.getExpResults(analysisIDs=resultID,txnames=txname,dataTypes='efficiencyMap')[0]\n",
      "print 'selected result:',expResult"
     ],
     "language": "python",
     "metadata": {},
     "outputs": [
      {
       "output_type": "stream",
       "stream": "stdout",
       "text": [
        "selected result: CMS-PAS-SUS-13-016: sr0(1):T1tttt(1)\n"
       ]
      }
     ],
     "prompt_number": 6
    },
    {
     "cell_type": "code",
     "collapsed": false,
     "input": [
      "#For an efficiency map result one only needs to specify the desired signal region (dataset)\n",
      "datasetID = 'sr0'\n",
      "print 'UL for dataset',datasetID,' is: ',expResult.getUpperLimitFor(dataID=datasetID)"
     ],
     "language": "python",
     "metadata": {},
     "outputs": [
      {
       "output_type": "stream",
       "stream": "stdout",
       "text": [
        "UL for dataset sr0  is:  2.11E-01 [fb]\n"
       ]
      }
     ],
     "prompt_number": 7
    },
    {
     "cell_type": "code",
     "collapsed": true,
     "input": [],
     "language": "python",
     "metadata": {},
     "outputs": [],
     "prompt_number": null
    }
   ],
   "metadata": {}
  }
 ]
}