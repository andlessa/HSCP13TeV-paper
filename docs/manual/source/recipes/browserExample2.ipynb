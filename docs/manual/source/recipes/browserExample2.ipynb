{
 "cells": [
  {
   "cell_type": "markdown",
   "metadata": {},
   "source": [
    "### Load the browser"
   ]
  },
  {
   "cell_type": "code",
   "execution_count": 1,
   "metadata": {},
   "outputs": [],
   "source": [
    "# Set up the path to SModelS installation folder\n",
    "import sys; sys.path.append(\".\"); import smodels_paths"
   ]
  },
  {
   "cell_type": "code",
   "execution_count": 2,
   "metadata": {},
   "outputs": [
    {
     "name": "stdout",
     "output_type": "stream",
     "text": [
      "FastLim v1.1 efficiencies loaded. Please cite: arXiv:1402.0492, EPJC74 (2014) 11\n",
      "117\n"
     ]
    }
   ],
   "source": [
    "from smodels.tools.physicsUnits import GeV\n",
    "from smodels.tools import databaseBrowser\n",
    "# First load the browser and check the total number of results loaded\n",
    "browser = databaseBrowser.Browser(\"official\")\n",
    "print ( len(browser) )"
   ]
  },
  {
   "cell_type": "markdown",
   "metadata": {},
   "source": [
    "### Check the upper limit of a efficiency map result (95% C.L. limit for a given signal region)"
   ]
  },
  {
   "cell_type": "code",
   "execution_count": 3,
   "metadata": {},
   "outputs": [
    {
     "name": "stdout",
     "output_type": "stream",
     "text": [
      "1.90E+00 [fb]\n",
      "2.60E-01 [fb]\n"
     ]
    }
   ],
   "source": [
    "# Check the upper limit for the ANA10-CUT1 signal region:\n",
    "print ( browser.getULForSR(expid='ATLAS-CONF-2013-053', datasetID='SRA mCT150') )\n",
    "# Check the upper limit for the ANA6-CUT5 signal region:\n",
    "print ( browser.getULForSR(expid='ATLAS-CONF-2013-053', datasetID='SRA mCT350') )"
   ]
  },
  {
   "cell_type": "markdown",
   "metadata": {},
   "source": [
    "### Check the upper limit for a upper limit result (95% C.L. limit for a given simplified model/txname and mass) "
   ]
  },
  {
   "cell_type": "code",
   "execution_count": 4,
   "metadata": {},
   "outputs": [
    {
     "name": "stdout",
     "output_type": "stream",
     "text": [
      "1.70E-01 [pb]\n"
     ]
    }
   ],
   "source": [
    "# Check the upper limit for T2bb simplified model with sbottom mass 300 GeV and LSP mass 100 GeV:\n",
    "print ( browser.getULFor(expid='ATLAS-CONF-2013-053', txname='T2bb', massarray = [[300.*GeV,100.*GeV],[300.*GeV,100.*GeV]]))"
   ]
  },
  {
   "cell_type": "code",
   "execution_count": 5,
   "metadata": {},
   "outputs": [
    {
     "name": "stdout",
     "output_type": "stream",
     "text": [
      "8.00E-02 [pb]\n"
     ]
    }
   ],
   "source": [
    "# Check the upper limit for T2bb simplified model with sbottom mass 400 GeV and LSP mass 150 GeV:\n",
    "print ( browser.getULFor(expid='ATLAS-CONF-2013-053', txname='T2bb', massarray = [[400.*GeV,150.*GeV],[400.*GeV,150.*GeV]]))"
   ]
  },
  {
   "cell_type": "code",
   "execution_count": 6,
   "metadata": {},
   "outputs": [
    {
     "name": "stdout",
     "output_type": "stream",
     "text": [
      "None\n"
     ]
    }
   ],
   "source": [
    "# No results will be given if masses outside the data grid are uses:\n",
    "print ( browser.getULFor(expid='ATLAS-CONF-2013-053', txname='T2bb', massarray = [[4000.*GeV,150.*GeV],[4000.*GeV,150.*GeV]]))"
   ]
  }
 ],
 "metadata": {
  "kernelspec": {
   "display_name": "Python 3",
   "language": "python",
   "name": "python3"
  },
  "language_info": {
   "codemirror_mode": {
    "name": "ipython",
    "version": 3
   },
   "file_extension": ".py",
   "mimetype": "text/x-python",
   "name": "python",
   "nbconvert_exporter": "python",
   "pygments_lexer": "ipython3",
   "version": "3.6.3"
  }
 },
 "nbformat": 4,
 "nbformat_minor": 1
}
