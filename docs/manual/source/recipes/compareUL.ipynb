{
 "metadata": {
  "kernelspec": {
   "display_name": "Python 2",
   "language": "python",
   "name": "python2"
  },
  "language_info": {
   "codemirror_mode": {
    "name": "ipython",
    "version": 2
   },
   "file_extension": ".py",
   "mimetype": "text/x-python",
   "name": "python",
   "nbconvert_exporter": "python",
   "pygments_lexer": "ipython2",
   "version": "2.7.12"
  },
  "name": "",
  "signature": "sha256:9d261b05e8ab3eb8b5daa4952c385a8f9c20134e0e123ac15830fb5478a08923"
 },
 "nbformat": 3,
 "nbformat_minor": 0,
 "worksheets": [
  {
   "cells": [
    {
     "cell_type": "heading",
     "level": 1,
     "metadata": {},
     "source": [
      "How To: Compare theory predictions with experimental limits"
     ]
    },
    {
     "cell_type": "code",
     "collapsed": false,
     "input": [
      "#Set up the path to SModelS installation folder if running on a different folder\n",
      "import sys,os\n",
      "sys.path.append(os.path.join(os.getenv(\"HOME\"),\"smodels/\"))"
     ],
     "language": "python",
     "metadata": {},
     "outputs": [],
     "prompt_number": 1
    },
    {
     "cell_type": "code",
     "collapsed": false,
     "input": [
      "#Import those parts of smodels that are needed for this exercise\n",
      "#(We will assume the input is a SLHA file. For LHE files, use the lheDecomposer instead)\n",
      "from smodels.theory import slhaDecomposer\n",
      "from smodels.installation import installDirectory\n",
      "from smodels.tools.physicsUnits import fb, GeV\n",
      "from smodels.theory.theoryPrediction import theoryPredictionsFor\n",
      "from smodels.experiment.databaseObj import Database"
     ],
     "language": "python",
     "metadata": {},
     "outputs": [],
     "prompt_number": 2
    },
    {
     "cell_type": "code",
     "collapsed": false,
     "input": [
      "#Define the SLHA input file name\n",
      "filename=\"%s/inputFiles/slha/gluino_squarks.slha\" % installDirectory()"
     ],
     "language": "python",
     "metadata": {},
     "outputs": [],
     "prompt_number": 3
    },
    {
     "cell_type": "code",
     "collapsed": false,
     "input": [
      "#Load the database, do the decomposition and compute theory predictions:\n",
      "#(Look at the theory predictions HowTo to learn how to compute theory predictions)\n",
      "databasepath = os.path.join(os.getenv(\"HOME\"),\"smodels-database/\")\n",
      "database = Database(databasepath)\n",
      "expResults = database.getExpResults()\n",
      "topList = slhaDecomposer.decompose(filename, sigcut = 0.03 * fb, doCompress=True, doInvisible=True,minmassgap = 5* GeV)\n",
      "allThPredictions = [theoryPredictionsFor(exp, topList) for exp in expResults]"
     ],
     "language": "python",
     "metadata": {},
     "outputs": [],
     "prompt_number": 4
    },
    {
     "cell_type": "code",
     "collapsed": false,
     "input": [
      "#Print the value of each theory prediction for each experimental\n",
      "#result and the corresponding upper limit (see the obtain experimental upper limits HowTo to learn how\n",
      "#to compute the upper limits).\n",
      "#Also print the expected upper limit, if available\n",
      "for thPreds in allThPredictions:\n",
      "    if not thPreds: continue #skip results with no predictions\n",
      "    for theoryPred in thPreds:\n",
      "        expID = theoryPred.expResult.globalInfo.id\n",
      "        dataType = theoryPred.dataset.dataInfo.dataType\n",
      "        print \"\\nExperimental Result: %s (%s-type)\" %(expID,dataType) #Result ID and type\n",
      "        print \"Theory prediction xsec = \",theoryPred.xsection.value #Signal xsection*efficiency*BR\n",
      "        print \"Upper limit = \",theoryPred.expResult.getUpperLimitFor(mass = theoryPred.mass, \n",
      "                                                              txname=theoryPred.txnames[0], \n",
      "                                                              dataID = theoryPred.dataset.dataInfo.dataId)\n",
      "        print \"Expected Upper limit = \",theoryPred.expResult.getUpperLimitFor(mass = theoryPred.mass, \n",
      "                                                              txname=theoryPred.txnames[0], \n",
      "                                                              dataID = theoryPred.dataset.dataInfo.dataId,\n",
      "                                                               expected= True)        "
     ],
     "language": "python",
     "metadata": {},
     "outputs": [
      {
       "output_type": "stream",
       "stream": "stdout",
       "text": [
        "\n",
        "Experimental Result: ATLAS-CONF-2013-047 (efficiencyMap-type)\n",
        "Theory prediction xsec =  5.24E-04 [pb]\n",
        "Upper limit =  2.52E+00 [fb]\n",
        "Expected Upper limit =  2.10E+00 [fb]\n",
        "\n",
        "Experimental Result: ATLAS-CONF-2013-053 (efficiencyMap-type)\n",
        "Theory prediction xsec =  8.58E-08 [pb]\n",
        "Upper limit =  2.60E-01 [fb]\n",
        "Expected Upper limit =  2.35E-01 [fb]\n",
        "\n",
        "Experimental Result: ATLAS-CONF-2013-054 (efficiencyMap-type)\n",
        "Theory prediction xsec =  6.52E-06 [pb]\n",
        "Upper limit =  5.00E-01 [fb]\n",
        "Expected Upper limit =  4.63E-01 [fb]\n",
        "\n",
        "Experimental Result: ATLAS-CONF-2013-061 (efficiencyMap-type)\n",
        "Theory prediction xsec =  4.81E-07 [pb]\n",
        "Upper limit =  2.30E-01 [fb]\n",
        "Expected Upper limit =  2.92E-01 [fb]\n",
        "\n",
        "Experimental Result: ATLAS-CONF-2013-089 (upperLimit-type)\n",
        "Theory prediction xsec =  6.62E-03 [pb]\n",
        "Upper limit =  4.01E+01 [pb]\n",
        "Expected Upper limit =  None\n",
        "\n",
        "Experimental Result: ATLAS-SUSY-2013-02 (upperLimit-type)\n",
        "Theory prediction xsec =  1.77E-03 [pb]\n",
        "Upper limit =  6.10E-03 [pb]\n",
        "Expected Upper limit =  None\n",
        "\n",
        "Experimental Result: ATLAS-SUSY-2013-02 (upperLimit-type)\n",
        "Theory prediction xsec =  3.92E-04 [pb]\n",
        "Upper limit =  1.08E-02 [pb]\n",
        "Expected Upper limit =  None\n",
        "\n",
        "Experimental Result: ATLAS-SUSY-2013-02 (upperLimit-type)\n",
        "Theory prediction xsec =  6.62E-03 [pb]\n",
        "Upper limit =  1.72E-02 [pb]\n",
        "Expected Upper limit =  None\n",
        "\n",
        "Experimental Result: ATLAS-SUSY-2013-02 (upperLimit-type)\n",
        "Theory prediction xsec =  9.07E-03 [pb]\n",
        "Upper limit =  3.24E-02 [pb]\n",
        "Expected Upper limit =  None\n",
        "\n",
        "Experimental Result: ATLAS-SUSY-2013-02 (efficiencyMap-type)\n",
        "Theory prediction xsec =  5.53E-04 [pb]\n",
        "Upper limit =  1.82E+00 [fb]\n",
        "Expected Upper limit =  1.51E+00 [fb]\n",
        "\n",
        "Experimental Result: ATLAS-SUSY-2013-04 (efficiencyMap-type)\n",
        "Theory prediction xsec =  1.52E-04 [pb]\n",
        "Upper limit =  5.08E-01 [fb]\n",
        "Expected Upper limit =  4.62E-01 [fb]\n",
        "\n",
        "Experimental Result: ATLAS-SUSY-2013-11 (upperLimit-type)\n",
        "Theory prediction xsec =  1.85E-02 [pb]\n",
        "Upper limit =  9.25E-01 [pb]\n",
        "Expected Upper limit =  None\n",
        "\n",
        "Experimental Result: ATLAS-SUSY-2013-11 (efficiencyMap-type)\n",
        "Theory prediction xsec =  4.39E-05 [pb]\n",
        "Upper limit =  5.29E-01 [fb]\n",
        "Expected Upper limit =  4.35E-01 [fb]\n",
        "\n",
        "Experimental Result: ATLAS-SUSY-2013-12 (upperLimit-type)\n",
        "Theory prediction xsec =  1.85E-02 [pb]\n",
        "Upper limit =  3.31E-01 [pb]\n",
        "Expected Upper limit =  None\n",
        "\n",
        "Experimental Result: CMS-SUS-12-028 (upperLimit-type)\n",
        "Theory prediction xsec =  3.92E-04 [pb]\n",
        "Upper limit =  3.16E-02 [pb]\n",
        "Expected Upper limit =  "
       ]
      },
      {
       "output_type": "stream",
       "stream": "stdout",
       "text": [
        "1.97E-02 [pb]\n",
        "\n",
        "Experimental Result: CMS-SUS-12-028 (upperLimit-type)\n",
        "Theory prediction xsec =  1.77E-03 [pb]\n",
        "Upper limit =  1.64E-02 [pb]\n",
        "Expected Upper limit =  9.67E-03 [pb]\n",
        "\n",
        "Experimental Result: CMS-SUS-13-006 (upperLimit-type)\n",
        "Theory prediction xsec =  9.59E-02 [pb]\n",
        "Upper limit =  1.14E+00 [pb]\n",
        "Expected Upper limit =  None\n",
        "\n",
        "Experimental Result: CMS-SUS-13-006 (upperLimit-type)\n",
        "Theory prediction xsec =  1.85E-02 [pb]\n",
        "Upper limit =  4.64E-01 [pb]\n",
        "Expected Upper limit =  None\n",
        "\n",
        "Experimental Result: CMS-SUS-13-012 (upperLimit-type)\n",
        "Theory prediction xsec =  3.92E-04 [pb]\n",
        "Upper limit =  1.11E-02 [pb]\n",
        "Expected Upper limit =  8.01E-03 [pb]\n",
        "\n",
        "Experimental Result: CMS-SUS-13-012 (upperLimit-type)\n",
        "Theory prediction xsec =  1.77E-03 [pb]\n",
        "Upper limit =  1.08E-02 [pb]\n",
        "Expected Upper limit =  6.10E-03 [pb]\n",
        "\n",
        "Experimental Result: CMS-SUS-13-012 (efficiencyMap-type)\n",
        "Theory prediction xsec =  8.05E-05 [pb]\n",
        "Upper limit =  2.74E-01 [fb]\n",
        "Expected Upper limit =  1.53E-01 [fb]\n",
        "\n",
        "Experimental Result: CMS-SUS-13-019 (upperLimit-type)\n",
        "Theory prediction xsec =  3.92E-04 [pb]\n",
        "Upper limit =  9.69E-03 [pb]\n",
        "Expected Upper limit =  None\n",
        "\n",
        "Experimental Result: CMS-SUS-13-019 (upperLimit-type)\n",
        "Theory prediction xsec =  1.77E-03 [pb]\n",
        "Upper limit =  3.76E-03 [pb]\n",
        "Expected Upper limit =  None\n"
       ]
      }
     ],
     "prompt_number": 5
    },
    {
     "cell_type": "code",
     "collapsed": true,
     "input": [],
     "language": "python",
     "metadata": {},
     "outputs": [],
     "prompt_number": null
    }
   ],
   "metadata": {}
  }
 ]
}