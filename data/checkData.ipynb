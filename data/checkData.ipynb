{
 "cells": [
  {
   "cell_type": "code",
   "execution_count": 2,
   "metadata": {},
   "outputs": [],
   "source": [
    "import os,sys,glob\n",
    "import pyslha"
   ]
  },
  {
   "cell_type": "code",
   "execution_count": 3,
   "metadata": {},
   "outputs": [],
   "source": [
    "slhafiles = [f for f in glob.glob('./slha_files_postref_full_recomp_TRg1E6_green_suspect241_sdec3b/*slha')]"
   ]
  },
  {
   "cell_type": "code",
   "execution_count": 10,
   "metadata": {},
   "outputs": [],
   "source": [
    "stop = False\n",
    "for slhafile in slhafiles:\n",
    "    if stop: break\n",
    "    slhaData = pyslha.readSLHAFile(slhafile)\n",
    "    decays = slhaData.decays\n",
    "    for decay in decays[1000016].decays:\n",
    "        if 0 in decay.ids and decay.br > 0.001:\n",
    "            print(decay)"
   ]
  },
  {
   "cell_type": "code",
   "execution_count": null,
   "metadata": {},
   "outputs": [],
   "source": []
  }
 ],
 "metadata": {
  "kernelspec": {
   "display_name": "Python 2",
   "language": "python",
   "name": "python2"
  },
  "language_info": {
   "codemirror_mode": {
    "name": "ipython",
    "version": 3
   },
   "file_extension": ".py",
   "mimetype": "text/x-python",
   "name": "python",
   "nbconvert_exporter": "python",
   "pygments_lexer": "ipython3",
   "version": "3.6.3"
  }
 },
 "nbformat": 4,
 "nbformat_minor": 2
}
