{
 "cells": [
  {
   "cell_type": "code",
   "execution_count": 1,
   "metadata": {},
   "outputs": [],
   "source": [
    "import os,sys,glob,imp,shutil"
   ]
  },
  {
   "cell_type": "code",
   "execution_count": 2,
   "metadata": {},
   "outputs": [],
   "source": [
    "smodelsfiles = [f for f in glob.glob('./smodelsOutput_IDM/*.py')]"
   ]
  },
  {
   "cell_type": "code",
   "execution_count": 3,
   "metadata": {},
   "outputs": [],
   "source": [
    "decompFail = {}\n",
    "warnings = {}\n",
    "fileFail = {}\n",
    "for f in smodelsfiles:\n",
    "    mod_name = os.path.basename(f).replace('.py','')    \n",
    "    pymod = imp.load_source(mod_name, f)\n",
    "    smodelsOutput = getattr(pymod,'smodelsOutput')\n",
    "    outputStat = smodelsOutput['OutputStatus']\n",
    "    if outputStat['decomposition status'] != 1:\n",
    "        decompFail[outputStat['input file']] = outputStat['decomposition status']\n",
    "    if outputStat['warnings'] != 'Input file ok':\n",
    "        warnings[outputStat['input file']] = outputStat['warnings']\n",
    "    if outputStat['file status'] != 1:\n",
    "        fileFail[outputStat['input file']] = outputStat['file status']"
   ]
  },
  {
   "cell_type": "code",
   "execution_count": 4,
   "metadata": {},
   "outputs": [
    {
     "name": "stdout",
     "output_type": "stream",
     "text": [
      "# decompFail= 243 # warnings= 0 # file fail= 0\n"
     ]
    }
   ],
   "source": [
    "print('# decompFail=',len(decompFail),'# warnings=',len(warnings),\"# file fail=\",len(fileFail))"
   ]
  },
  {
   "cell_type": "code",
   "execution_count": 5,
   "metadata": {},
   "outputs": [
    {
     "name": "stdout",
     "output_type": "stream",
     "text": [
      "Decomp fail values: [0]\n"
     ]
    }
   ],
   "source": [
    "errorCodes = list(set(list(decompFail.values())))\n",
    "print('Decomp fail values:',errorCodes)\n",
    "#0 = no exp results, -2 = bad input file (xsecs missing)?, -3 = no xsecs above sigmacut"
   ]
  },
  {
   "cell_type": "code",
   "execution_count": 6,
   "metadata": {},
   "outputs": [
    {
     "name": "stdout",
     "output_type": "stream",
     "text": [
      "Warning values: []\n"
     ]
    }
   ],
   "source": [
    "errorCodes = list(set([x[:40] for x in warnings.values()]))\n",
    "print('Warning values:',errorCodes)"
   ]
  },
  {
   "cell_type": "code",
   "execution_count": 7,
   "metadata": {},
   "outputs": [
    {
     "name": "stdout",
     "output_type": "stream",
     "text": [
      "File fail: []\n"
     ]
    }
   ],
   "source": [
    "errorCodes = list(set([x for x in fileFail.values()]))\n",
    "print('File fail:',errorCodes)"
   ]
  },
  {
   "cell_type": "code",
   "execution_count": 8,
   "metadata": {},
   "outputs": [
    {
     "name": "stdout",
     "output_type": "stream",
     "text": [
      "../data/slha_files_IDM/1_176_mg.slha\n"
     ]
    }
   ],
   "source": [
    "for f in decompFail:\n",
    "    print(f)\n",
    "    break\n",
    "#     try:\n",
    "#         shutil.move(f,'/home/lessa/HSCP13TeV-paper/data/slha_files_postref_full_recomp_TRg1E6_green_suspect241_sdec3b/lowXSecs/')\n",
    "#         os.remove(f+'.py')\n",
    "#         os.remove(f+'.smodels')\n",
    "#     except:\n",
    "#         pass"
   ]
  },
  {
   "cell_type": "code",
   "execution_count": null,
   "metadata": {},
   "outputs": [],
   "source": []
  }
 ],
 "metadata": {
  "kernelspec": {
   "display_name": "Python 2",
   "language": "python",
   "name": "python2"
  },
  "language_info": {
   "codemirror_mode": {
    "name": "ipython",
    "version": 3
   },
   "file_extension": ".py",
   "mimetype": "text/x-python",
   "name": "python",
   "nbconvert_exporter": "python",
   "pygments_lexer": "ipython3",
   "version": "3.6.3"
  }
 },
 "nbformat": 4,
 "nbformat_minor": 2
}
