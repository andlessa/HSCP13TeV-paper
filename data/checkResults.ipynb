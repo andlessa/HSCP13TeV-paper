{
 "cells": [
  {
   "cell_type": "code",
   "execution_count": 13,
   "metadata": {},
   "outputs": [],
   "source": [
    "import os,sys,glob,imp,shutil"
   ]
  },
  {
   "cell_type": "code",
   "execution_count": 2,
   "metadata": {},
   "outputs": [],
   "source": [
    "smodelsfiles = [f for f in glob.glob('./slha_files_postref_full_recomp_TRg1E6_green_suspect241_sdec3b/*.py')]"
   ]
  },
  {
   "cell_type": "code",
   "execution_count": 7,
   "metadata": {},
   "outputs": [],
   "source": [
    "decompFail = {}\n",
    "warnings = {}\n",
    "fileFail = {}\n",
    "for f in smodelsfiles:\n",
    "    mod_name = os.path.basename(f).replace('.py','')    \n",
    "    pymod = imp.load_source(mod_name, f)\n",
    "    smodelsOutput = getattr(pymod,'smodelsOutput')\n",
    "    outputStat = smodelsOutput['OutputStatus']\n",
    "    if outputStat['decomposition status'] != 1:\n",
    "        decompFail[outputStat['input file']] = outputStat['decomposition status']\n",
    "    if outputStat['warnings'] != 'Input file ok':\n",
    "        warnings[outputStat['input file']] = outputStat['warnings']\n",
    "    if outputStat['file status'] != 1:\n",
    "        fileFail[outputStat['input file']] = outputStat['file status']"
   ]
  },
  {
   "cell_type": "code",
   "execution_count": 22,
   "metadata": {},
   "outputs": [
    {
     "name": "stdout",
     "output_type": "stream",
     "text": [
      "# decompFail= 7605 # warnings= 293 # file fail= 293\n"
     ]
    }
   ],
   "source": [
    "print('# decompFail=',len(decompFail),'# warnings=',len(warnings),\"# file fail=\",len(fileFail))"
   ]
  },
  {
   "cell_type": "code",
   "execution_count": 23,
   "metadata": {},
   "outputs": [
    {
     "name": "stdout",
     "output_type": "stream",
     "text": [
      "Decomp fail values: [0, -3, -2]\n"
     ]
    }
   ],
   "source": [
    "errorCodes = list(set(list(decompFail.values())))\n",
    "print('Decomp fail values:',errorCodes)\n",
    "#0 = no exp results, -2 = bad input file (xsecs missing)?, -3 = no xsecs above sigmacut"
   ]
  },
  {
   "cell_type": "code",
   "execution_count": 26,
   "metadata": {},
   "outputs": [
    {
     "name": "stdout",
     "output_type": "stream",
     "text": [
      "Warning values: ['#Warnings:\\n#XSECTION table is missing. P']\n"
     ]
    }
   ],
   "source": [
    "errorCodes = list(set([x[:40] for x in warnings.values()]))\n",
    "print('Warning values:',errorCodes)"
   ]
  },
  {
   "cell_type": "code",
   "execution_count": 27,
   "metadata": {},
   "outputs": [
    {
     "name": "stdout",
     "output_type": "stream",
     "text": [
      "File fail: [-2]\n"
     ]
    }
   ],
   "source": [
    "errorCodes = list(set([x for x in fileFail.values()]))\n",
    "print('File fail:',errorCodes)"
   ]
  },
  {
   "cell_type": "code",
   "execution_count": 32,
   "metadata": {},
   "outputs": [],
   "source": [
    "for f in decompFail:\n",
    "    if decompFail[f] == -3:\n",
    "#        shutil.move(f,\n",
    "#                    '/home/lessa/HSCP13TeV-paper/data/slha_files_postref_full_recomp_TRg1E6_green_suspect241_sdec3b/lowSigmaCut/')\n",
    "        os.remove(f+'.smodels')\n",
    "        os.remove(f+'.py')"
   ]
  },
  {
   "cell_type": "code",
   "execution_count": null,
   "metadata": {},
   "outputs": [],
   "source": []
  }
 ],
 "metadata": {
  "kernelspec": {
   "display_name": "Python 2",
   "language": "python",
   "name": "python2"
  },
  "language_info": {
   "codemirror_mode": {
    "name": "ipython",
    "version": 3
   },
   "file_extension": ".py",
   "mimetype": "text/x-python",
   "name": "python",
   "nbconvert_exporter": "python",
   "pygments_lexer": "ipython3",
   "version": "3.6.3"
  }
 },
 "nbformat": 4,
 "nbformat_minor": 2
}
