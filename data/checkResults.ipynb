{
 "cells": [
  {
   "cell_type": "code",
   "execution_count": 1,
   "metadata": {},
   "outputs": [],
   "source": [
    "import os,sys,glob,imp,shutil"
   ]
  },
  {
   "cell_type": "code",
   "execution_count": 2,
   "metadata": {},
   "outputs": [],
   "source": [
    "smodelsfiles = [f for f in glob.glob('./gravitino_stau/June2018_TRg1E7_ALLbutHSCP_inclTanb_vlooseBBN/*.py')]"
   ]
  },
  {
   "cell_type": "code",
   "execution_count": 3,
   "metadata": {},
   "outputs": [],
   "source": [
    "decompFail = {}\n",
    "warnings = {}\n",
    "fileFail = {}\n",
    "for f in smodelsfiles:\n",
    "    mod_name = os.path.basename(f).replace('.py','')    \n",
    "    pymod = imp.load_source(mod_name, f)\n",
    "    smodelsOutput = getattr(pymod,'smodelsOutput')\n",
    "    outputStat = smodelsOutput['OutputStatus']\n",
    "    if outputStat['decomposition status'] != 1:\n",
    "        decompFail[outputStat['input file']] = outputStat['decomposition status']\n",
    "    if outputStat['warnings'] != 'Input file ok':\n",
    "        warnings[outputStat['input file']] = outputStat['warnings']\n",
    "    if outputStat['file status'] != 1:\n",
    "        fileFail[outputStat['input file']] = outputStat['file status']"
   ]
  },
  {
   "cell_type": "code",
   "execution_count": 7,
   "metadata": {},
   "outputs": [
    {
     "name": "stdout",
     "output_type": "stream",
     "text": [
      "('# decompFail=', 14, '# warnings=', 0, '# file fail=', 0)\n"
     ]
    }
   ],
   "source": [
    "print('# decompFail=',len(decompFail),'# warnings=',len(warnings),\"# file fail=\",len(fileFail))"
   ]
  },
  {
   "cell_type": "code",
   "execution_count": 8,
   "metadata": {},
   "outputs": [
    {
     "name": "stdout",
     "output_type": "stream",
     "text": [
      "('Decomp fail values:', [0, -3])\n"
     ]
    }
   ],
   "source": [
    "errorCodes = list(set(list(decompFail.values())))\n",
    "print('Decomp fail values:',errorCodes)\n",
    "#0 = no exp results, -2 = bad input file (xsecs missing)?, -3 = no xsecs above sigmacut"
   ]
  },
  {
   "cell_type": "code",
   "execution_count": 9,
   "metadata": {},
   "outputs": [
    {
     "name": "stdout",
     "output_type": "stream",
     "text": [
      "('Warning values:', [])\n"
     ]
    }
   ],
   "source": [
    "errorCodes = list(set([x[:40] for x in warnings.values()]))\n",
    "print('Warning values:',errorCodes)"
   ]
  },
  {
   "cell_type": "code",
   "execution_count": 10,
   "metadata": {},
   "outputs": [
    {
     "name": "stdout",
     "output_type": "stream",
     "text": [
      "('File fail:', [])\n"
     ]
    }
   ],
   "source": [
    "errorCodes = list(set([x for x in fileFail.values()]))\n",
    "print('File fail:',errorCodes)"
   ]
  },
  {
   "cell_type": "code",
   "execution_count": 19,
   "metadata": {},
   "outputs": [],
   "source": [
    "for f in decompFail:\n",
    "    fslha = os.path.basename(f)\n",
    "    fslha = os.path.join('./gravitino_stau/June2018_TRg1E7_ALLbutHSCP_inclTanb_vlooseBBN/',fslha)\n",
    "    fsmodels = os.path.basename(f)\n",
    "    fsmodels = os.path.join('./gravitino_stau/June2018_TRg1E7_ALLbutHSCP_inclTanb_vlooseBBN/',fsmodels)\n",
    "    try:\n",
    "        shutil.copy2(fslha,'./gravitino_stau/lowXSecs')\n",
    "        os.remove(fsmodels+'.py')\n",
    "        os.remove(fsmodels+'.smodels')\n",
    "    except:\n",
    "        pass"
   ]
  },
  {
   "cell_type": "code",
   "execution_count": 20,
   "metadata": {},
   "outputs": [
    {
     "name": "stdout",
     "output_type": "stream",
     "text": [
      "0.0799624819\n"
     ]
    }
   ],
   "source": [
    "import pyslha\n",
    "minxsec = 0.\n",
    "for f in glob.glob('./gravitino_stau/lowXSecs/*.slha'):\n",
    "    slha = pyslha.readSLHAFile(f)\n",
    "    xsecmax = max([max([x.value for x in slha.xsections[proc].xsecs]) for proc in slha.xsections.keys()])\n",
    "    if not minxsec or xsecmax < minxsec:\n",
    "        minxsec = xsecmax\n",
    "print(minxsec*1000)"
   ]
  },
  {
   "cell_type": "code",
   "execution_count": 21,
   "metadata": {},
   "outputs": [
    {
     "name": "stdout",
     "output_type": "stream",
     "text": [
      "('../data/gravitino_stau/lowXSecs/27000000356912_4woFH-Sdec3b.slha', 0)\n",
      "('../data/gravitino_stau/lowXSecs/22000000308367_woFH-Sdec3b_MGout.slha', -3)\n",
      "('../data/gravitino_stau/lowXSecs/23000000079850_4woFH-Sdec3b.slha', 0)\n",
      "('../data/gravitino_stau/lowXSecs/14000000133190_woFH-Sdec3b_MGout.slha', -3)\n",
      "('../data/gravitino_stau/lowXSecs/24000000035709_4woFH-Sdec3b.slha', -3)\n",
      "('../data/gravitino_stau/lowXSecs/18000000124307_woFH-Sdec3b_MGout.slha', 0)\n",
      "('../data/gravitino_stau/lowXSecs/19000000319811_4woFH-Sdec3b.slha', 0)\n",
      "('../data/gravitino_stau/lowXSecs/12000000087796_4woFH-Sdec3b.slha', 0)\n",
      "('../data/gravitino_stau/lowXSecs/15000000138094_4woFH-Sdec3b.slha', 0)\n",
      "('../data/gravitino_stau/lowXSecs/23000000432308_woFH-Sdec3b_MGout.slha', 0)\n",
      "('../data/gravitino_stau/lowXSecs/22000000010517_woFH-Sdec3b_MGout.slha', 0)\n",
      "('../data/gravitino_stau/lowXSecs/22000000294634_woFH-Sdec3b_MGout.slha', 0)\n",
      "('../data/gravitino_stau/lowXSecs/27000000040260_woFH-Sdec3b_MGout.slha', 0)\n",
      "('../data/gravitino_stau/lowXSecs/29000000080362_4woFH-Sdec3b.slha', 0)\n"
     ]
    }
   ],
   "source": [
    "for f in decompFail: print(f,decompFail[f])"
   ]
  },
  {
   "cell_type": "code",
   "execution_count": null,
   "metadata": {},
   "outputs": [],
   "source": []
  }
 ],
 "metadata": {
  "kernelspec": {
   "display_name": "Python 2",
   "language": "python",
   "name": "python2"
  },
  "language_info": {
   "codemirror_mode": {
    "name": "ipython",
    "version": 2
   },
   "file_extension": ".py",
   "mimetype": "text/x-python",
   "name": "python",
   "nbconvert_exporter": "python",
   "pygments_lexer": "ipython2",
   "version": "2.7.14"
  }
 },
 "nbformat": 4,
 "nbformat_minor": 2
}
