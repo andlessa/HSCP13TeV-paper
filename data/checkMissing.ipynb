{
 "cells": [
  {
   "cell_type": "code",
   "execution_count": 1,
   "metadata": {},
   "outputs": [],
   "source": [
    "import os,sys,glob,imp,shutil"
   ]
  },
  {
   "cell_type": "code",
   "execution_count": 2,
   "metadata": {},
   "outputs": [],
   "source": [
    "smodelsfiles = [f for f in glob.glob('./slha_files_postref_full_recomp_TRg1E6_green_suspect241_sdec3b/*.py')]"
   ]
  },
  {
   "cell_type": "code",
   "execution_count": 3,
   "metadata": {},
   "outputs": [],
   "source": [
    "missingTopos = {}\n",
    "for f in smodelsfiles:\n",
    "    mod_name = os.path.basename(f).replace('.py','')    \n",
    "    pymod = imp.load_source(mod_name, f)\n",
    "    smodelsOutput = getattr(pymod,'smodelsOutput')\n",
    "    if not smodelsOutput['Missed Topologies']:\n",
    "        continue\n",
    "    for missedTx in smodelsOutput['Missed Topologies']:\n",
    "        el = missedTx['element']\n",
    "        if el in missingTopos and missedTx['weight (fb)'] < missingTopos[el]:\n",
    "            continue\n",
    "        else:\n",
    "            missingTopos[el] = missedTx['weight (fb)']"
   ]
  },
  {
   "cell_type": "code",
   "execution_count": 4,
   "metadata": {},
   "outputs": [
    {
     "name": "stdout",
     "output_type": "stream",
     "text": [
      "4607\n"
     ]
    }
   ],
   "source": [
    "print(len(missingTopos))"
   ]
  },
  {
   "cell_type": "code",
   "execution_count": 5,
   "metadata": {},
   "outputs": [],
   "source": [
    "minWeight = 10.;\n",
    "missToposMin = {}\n",
    "for missedTx in missingTopos:\n",
    "    if missingTopos[missedTx] < minWeight:\n",
    "        continue\n",
    "    missToposMin[missedTx] = missingTopos[missedTx]"
   ]
  },
  {
   "cell_type": "code",
   "execution_count": 6,
   "metadata": {},
   "outputs": [
    {
     "name": "stdout",
     "output_type": "stream",
     "text": [
      "44\n"
     ]
    }
   ],
   "source": [
    "print(len(missToposMin))"
   ]
  },
  {
   "cell_type": "code",
   "execution_count": 7,
   "metadata": {},
   "outputs": [
    {
     "name": "stdout",
     "output_type": "stream",
     "text": [
      "44\n",
      "32\n"
     ]
    }
   ],
   "source": [
    "missToposOrdered = sorted([x for x in missToposMin.items()], key=lambda x: x[1],reverse=True)\n",
    "missToposOrderedHSCP = sorted([x for x in missToposMin.items() if 'HSCP' in x[0]], key=lambda x: x[1],reverse=True)\n",
    "print(len(missToposOrdered))\n",
    "print(len(missToposOrderedHSCP))"
   ]
  },
  {
   "cell_type": "code",
   "execution_count": 8,
   "metadata": {},
   "outputs": [
    {
     "name": "stdout",
     "output_type": "stream",
     "text": [
      "[(\"[[[higgs],[W]],[[higgs],[W]]] ('RHadronQ', 'RHadronQ')\", 357.0054361204716), (\"[[[higgs],[W]],[[t],[b]]] ('RHadronQ', 'RHadronQ')\", 63.21533420243418), (\"[[],[[jet]]] ('RHadronG', 'RHadronG')\", 53.405196054499996), (\"[[[jet]],[[jet]]] ('RHadronG', 'RHadronG')\", 53.04395925219), (\"[[[b]],[[b]]] ('RHadronQ', 'RHadronQ')\", 41.608808999999994), (\"[[[t],[b,nu]],[[t],[b,nu]]] ('HSCP', 'HSCP')\", 39.107916800000005), (\"[[[b],[nu,t]],[[b],[nu,t]]] ('HSCP', 'HSCP')\", 37.872288896583704), (\"[[[b,b]],[[b,b]]] ('RHadronQ', 'RHadronQ')\", 37.115176913113324), (\"[[[b,b],[ta]],[[b,b],[ta]]] ('HSCP', 'HSCP')\", 35.293665036347704), (\"[[[b],[nu,t]],[[jet],[b],[nu,t]]] ('HSCP', 'HSCP')\", 32.94034215714563)]\n"
     ]
    }
   ],
   "source": [
    "print(missToposOrdered[:10])"
   ]
  },
  {
   "cell_type": "code",
   "execution_count": 9,
   "metadata": {},
   "outputs": [
    {
     "name": "stdout",
     "output_type": "stream",
     "text": [
      "[(\"[[[t],[b,nu]],[[t],[b,nu]]] ('HSCP', 'HSCP')\", 39.107916800000005), (\"[[[b],[nu,t]],[[b],[nu,t]]] ('HSCP', 'HSCP')\", 37.872288896583704), (\"[[[b,b],[ta]],[[b,b],[ta]]] ('HSCP', 'HSCP')\", 35.293665036347704), (\"[[[b],[nu,t]],[[jet],[b],[nu,t]]] ('HSCP', 'HSCP')\", 32.94034215714563), (\"[[[W,b],[b,nu]],[[W,b],[b,nu]]] ('HSCP', 'HSCP')\", 29.2104922), (\"[[[jet,jet],[ta]],[[jet,jet],[ta]]] ('HSCP', 'HSCP')\", 27.402467323648917), (\"[[],[[t],[b,nu]]] ('RHadronQ', 'HSCP')\", 23.3184414370265), (\"[[[jet],[t],[b,ta]],[[t],[b,ta]]] ('HSCP', 'HSCP')\", 18.603778077531935), (\"[[[b],[jet,jet],[b,nu]],[[b],[jet,jet],[b,nu]]] ('HSCP', 'HSCP')\", 18.197982209262396), (\"[[[jet],[t],[t],[ta]],[[t],[t],[ta]]] ('HSCP', 'HSCP')\", 18.140882413064595)]\n"
     ]
    }
   ],
   "source": [
    "print(missToposOrderedHSCP[:10])"
   ]
  },
  {
   "cell_type": "code",
   "execution_count": null,
   "metadata": {},
   "outputs": [],
   "source": []
  }
 ],
 "metadata": {
  "kernelspec": {
   "display_name": "Python 2",
   "language": "python",
   "name": "python2"
  },
  "language_info": {
   "codemirror_mode": {
    "name": "ipython",
    "version": 3
   },
   "file_extension": ".py",
   "mimetype": "text/x-python",
   "name": "python",
   "nbconvert_exporter": "python",
   "pygments_lexer": "ipython3",
   "version": "3.6.3"
  }
 },
 "nbformat": 4,
 "nbformat_minor": 2
}
