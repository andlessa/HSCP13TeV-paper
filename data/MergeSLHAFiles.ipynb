{
 "cells": [
  {
   "cell_type": "code",
   "execution_count": 1,
   "metadata": {},
   "outputs": [],
   "source": [
    "import os,sys,shutil,glob"
   ]
  },
  {
   "cell_type": "code",
   "execution_count": 2,
   "metadata": {},
   "outputs": [],
   "source": [
    "for f in glob.glob('./IDM/IDM_slha_8/*.slha'):\n",
    "    if os.path.isfile(f.replace('slha_8','slha')):\n",
    "        continue\n",
    "    if not os.path.isfile(f.replace('slha_8','slha_13')):\n",
    "        continue    \n",
    "    slhaF = open(f,'r')\n",
    "    slhaData = slhaF.read()\n",
    "    slhaF.close()\n",
    "    slhaF = open(f.replace('slha_8','slha_13'),'r')\n",
    "    newData = slhaF.read()\n",
    "    slhaData += '\\n\\n'+newData[newData.find('XSECTION'):]\n",
    "    slhaF.close()\n",
    "    slhaF = open(f.replace('slha_8','slha'),'w')\n",
    "    slhaF.write(slhaData+'\\n')\n",
    "    slhaF.close()"
   ]
  },
  {
   "cell_type": "code",
   "execution_count": null,
   "metadata": {},
   "outputs": [],
   "source": []
  }
 ],
 "metadata": {
  "kernelspec": {
   "display_name": "Python 2",
   "language": "python",
   "name": "python2"
  },
  "language_info": {
   "codemirror_mode": {
    "name": "ipython",
    "version": 2
   },
   "file_extension": ".py",
   "mimetype": "text/x-python",
   "name": "python",
   "nbconvert_exporter": "python",
   "pygments_lexer": "ipython2",
   "version": "2.7.14"
  }
 },
 "nbformat": 4,
 "nbformat_minor": 2
}
