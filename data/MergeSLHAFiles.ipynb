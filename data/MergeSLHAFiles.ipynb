{
 "cells": [
  {
   "cell_type": "code",
   "execution_count": 1,
   "metadata": {},
   "outputs": [],
   "source": [
    "import os,sys,shutil,glob"
   ]
  },
  {
   "cell_type": "code",
   "execution_count": 2,
   "metadata": {},
   "outputs": [],
   "source": [
    "for f in glob.glob('./IDM_slha_8/*.slha'):\n",
    "    slhaF = open(f,'r')\n",
    "    slhaData = slhaF.read()\n",
    "    slhaF.close()\n",
    "    slhaF = open(f.replace('slha_8','slha_13'),'r')\n",
    "    newData = slhaF.read()\n",
    "    slhaData += '\\n\\n'+newData[newData.find('XSECTION'):]\n",
    "    slhaF.close()\n",
    "    slhaF = open(f.replace('slha_8','slha'),'w')\n",
    "    slhaF.write(slhaData+'\\n')\n",
    "    slhaF.close()"
   ]
  },
  {
   "cell_type": "code",
   "execution_count": null,
   "metadata": {},
   "outputs": [],
   "source": []
  }
 ],
 "metadata": {
  "kernelspec": {
   "display_name": "Python 2",
   "language": "python",
   "name": "python2"
  },
  "language_info": {
   "codemirror_mode": {
    "name": "ipython",
    "version": 3
   },
   "file_extension": ".py",
   "mimetype": "text/x-python",
   "name": "python",
   "nbconvert_exporter": "python",
   "pygments_lexer": "ipython3",
   "version": "3.6.3"
  }
 },
 "nbformat": 4,
 "nbformat_minor": 2
}
