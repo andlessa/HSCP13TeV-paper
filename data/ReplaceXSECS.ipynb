{
 "cells": [
  {
   "cell_type": "code",
   "execution_count": 1,
   "metadata": {},
   "outputs": [],
   "source": [
    "import os,sys,shutil,glob"
   ]
  },
  {
   "cell_type": "code",
   "execution_count": 2,
   "metadata": {},
   "outputs": [],
   "source": [
    "for f in glob.glob('./dir_TRg1E6_green_suspect241_sdec3b_zeroWidths_MGout/*.slha'):\n",
    "    slhaF = open(f,'a')\n",
    "    fold = os.path.basename(f).replace('woFH-Sdec3b_MGout','4woFH-Sdec3b')\n",
    "    slhaOld = open('./slha_files_postref_full_recomp_TRg1E6_green_suspect241_sdec3b/'+fold,'r')\n",
    "    xsecData = slhaOld.read()\n",
    "    slhaOld.close()\n",
    "    xsecData = '\\n\\n'+xsecData[xsecData.find('XSECTION'):]\n",
    "    slhaF.write(xsecData+'\\n')\n",
    "    slhaF.close()"
   ]
  },
  {
   "cell_type": "code",
   "execution_count": null,
   "metadata": {},
   "outputs": [],
   "source": []
  }
 ],
 "metadata": {
  "kernelspec": {
   "display_name": "Python 2",
   "language": "python",
   "name": "python2"
  },
  "language_info": {
   "codemirror_mode": {
    "name": "ipython",
    "version": 2
   },
   "file_extension": ".py",
   "mimetype": "text/x-python",
   "name": "python",
   "nbconvert_exporter": "python",
   "pygments_lexer": "ipython2",
   "version": "2.7.14"
  }
 },
 "nbformat": 4,
 "nbformat_minor": 2
}
