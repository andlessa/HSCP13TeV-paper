{
 "metadata": {
  "name": "",
  "signature": "sha256:50d859e52e35e2d2d93578be669f4c8cf3f3228ab04db361f5f325ab5de64649"
 },
 "nbformat": 3,
 "nbformat_minor": 0,
 "worksheets": [
  {
   "cells": [
    {
     "cell_type": "code",
     "collapsed": false,
     "input": [
      "import ROOT\n",
      "from array import array"
     ],
     "language": "python",
     "metadata": {},
     "outputs": [],
     "prompt_number": 1
    },
    {
     "cell_type": "code",
     "collapsed": false,
     "input": [
      "f = open('EXO13006_ASCII_TABLES_ALL.txt','r')\n",
      "lines = f.readlines()\n",
      "f.close()"
     ],
     "language": "python",
     "metadata": {},
     "outputs": [],
     "prompt_number": 2
    },
    {
     "cell_type": "code",
     "collapsed": false,
     "input": [
      "header = [h.strip() for h in lines[0].split('&')]"
     ],
     "language": "python",
     "metadata": {},
     "outputs": [],
     "prompt_number": 3
    },
    {
     "cell_type": "code",
     "collapsed": false,
     "input": [
      "pts = []\n",
      "for l in lines[2:]:\n",
      "    pt = [eval(x[:x.find('+-')]) for x in l.split('&')]\n",
      "    ptDict = dict([[header[i],x] for i,x in enumerate(pt)])\n",
      "    pts.append(ptDict)"
     ],
     "language": "python",
     "metadata": {},
     "outputs": [],
     "prompt_number": 4
    },
    {
     "cell_type": "code",
     "collapsed": false,
     "input": [
      "print pts[0]"
     ],
     "language": "python",
     "metadata": {},
     "outputs": [
      {
       "output_type": "stream",
       "stream": "stdout",
       "text": [
        "{'Poff(k,m_thresh=  0GeV)': 0.0, 'Pon(k)': 0.0001652, 'beta bin': [0.4, 0.45], 'p_T bin': [45, 50], '|eta| bin': [1.75, 2.0], 'Poff(k,m_thresh=200GeV)': 0.0, 'Poff(k,m_thresh=300GeV)': 0.0, '#GenPart.': 3693.37, 'Poff(k,m_thresh=100GeV)': 0.0}\n"
       ]
      }
     ],
     "prompt_number": 5
    },
    {
     "cell_type": "code",
     "collapsed": false,
     "input": [
      "pTbins = sorted(list(set([pt['p_T bin'][0] for pt in pts])))\n",
      "pTbins.append(max([pt['p_T bin'][1] for pt in pts]))\n",
      "betabins = sorted(list(set([pt['beta bin'][0] for pt in pts])))\n",
      "betabins.append(max([pt['beta bin'][1] for pt in pts]))\n",
      "etabins = sorted(list(set([pt['|eta| bin'][0] for pt in pts])))\n",
      "etabins.append(max([pt['|eta| bin'][1] for pt in pts]))"
     ],
     "language": "python",
     "metadata": {},
     "outputs": [],
     "prompt_number": 6
    },
    {
     "cell_type": "code",
     "collapsed": false,
     "input": [
      "nM = 4\n",
      "histoTrigger = ROOT.TH3F(\"P_On(k)\",\"P_On(k)\",len(pTbins)-1,array('d',pTbins),\n",
      "                         len(betabins)-1,array('d',betabins),len(etabins)-1,array('d',etabins))\n",
      "histoOffline = []\n",
      "for Mi in range(nM):\n",
      "    histoOffline.append(ROOT.TH3F(\"P_Off(k,%iGeV)\"%(Mi*100),\"P_Off(k,%iGeV)\"%(Mi*100),len(pTbins)-1,array('d',pTbins),\n",
      "                         len(betabins)-1,array('d',betabins),len(etabins)-1,array('d',etabins)))"
     ],
     "language": "python",
     "metadata": {},
     "outputs": [],
     "prompt_number": 7
    },
    {
     "cell_type": "code",
     "collapsed": false,
     "input": [
      "for pt in pts:\n",
      "    pT = (pt['p_T bin'][0]+pt['p_T bin'][1])/2.\n",
      "    beta = (pt['beta bin'][0]+pt['beta bin'][1])/2.\n",
      "    eta = (pt['|eta| bin'][0]+pt['|eta| bin'][1])/2.\n",
      "    histoTrigger.Fill(pT,beta,eta,pt['Pon(k)'])\n",
      "    for Mi in range(nM):\n",
      "        histoOffline[Mi].Fill(pT,beta,eta,pt['Poff(k,m_thresh=%3iGeV)'%(100*Mi)])"
     ],
     "language": "python",
     "metadata": {},
     "outputs": [],
     "prompt_number": 8
    },
    {
     "cell_type": "code",
     "collapsed": false,
     "input": [
      "rootFile = ROOT.TFile(\"EXO13006_ASCII_TABLES_ALL.root\",\"RECREATE\")"
     ],
     "language": "python",
     "metadata": {},
     "outputs": [],
     "prompt_number": 9
    },
    {
     "cell_type": "code",
     "collapsed": false,
     "input": [
      "histoTrigger.Write()\n",
      "for Mi in range(nM):\n",
      "    histoOffline[Mi].Write()"
     ],
     "language": "python",
     "metadata": {},
     "outputs": [],
     "prompt_number": 10
    },
    {
     "cell_type": "code",
     "collapsed": false,
     "input": [
      "rootFile.Close()"
     ],
     "language": "python",
     "metadata": {},
     "outputs": [],
     "prompt_number": 11
    },
    {
     "cell_type": "code",
     "collapsed": false,
     "input": [],
     "language": "python",
     "metadata": {},
     "outputs": []
    }
   ],
   "metadata": {}
  }
 ]
}