{
 "cells": [
  {
   "cell_type": "code",
   "execution_count": 1,
   "metadata": {},
   "outputs": [],
   "source": [
    "import numpy as np\n",
    "from scipy.interpolate import interp1d\n",
    "import pyslha\n",
    "import sys,imp\n",
    "sys.path.append('../smodels')\n",
    "from smodels.tools.physicsUnits import fb,pb,GeV,TeV,mm,m"
   ]
  },
  {
   "cell_type": "code",
   "execution_count": 4,
   "metadata": {},
   "outputs": [],
   "source": [
    "#Get CMS efficiencies:\n",
    "M1effFile = '../smodels-database/13TeV/CMS/CMS-PAS-EXO-16-036-eff/orig/effmap_M1_stau_cons_mrec300_trim.txt'\n",
    "M2effFile = '../smodels-database/13TeV/CMS/CMS-PAS-EXO-16-036-eff/orig/effmap_M2_stau_cons_mrec300_trim.txt'\n",
    "M1effData = np.loadtxt(M1effFile)\n",
    "M2effData = np.loadtxt(M2effFile)\n",
    "M1effFunc = interp1d(M1effData[:,0],M1effData[:,1],bounds_error=False,fill_value=0.)\n",
    "M2effFunc = interp1d(M2effData[:,0],M2effData[:,1],bounds_error=False,fill_value=0.)"
   ]
  },
  {
   "cell_type": "code",
   "execution_count": 5,
   "metadata": {},
   "outputs": [
    {
     "name": "stdout",
     "output_type": "stream",
     "text": [
      "mass= 5.22E+02 [GeV] \n",
      "totxsec= 1.38E-03 [pb] \n",
      "width= 8.48E-19 [GeV] \n",
      "ctau= 2.32E+02 [m]\n"
     ]
    }
   ],
   "source": [
    "#Get SLHA data\n",
    "slhaFile = '../data/IDM/2sigma_smallDetaM_xsecs/20000000291_paramcard.slha'\n",
    "slha = pyslha.readSLHAFile(slhaFile)\n",
    "totxsec = sum([max([x.value for x in proc.get_xsecs(sqrts=13000)]) for proc in slha.xsections.values()])*pb\n",
    "mass = slha.blocks['MASS'][37]*GeV\n",
    "width = slha.decays[37].totalwidth*GeV\n",
    "ctau = (1.967e-16)*GeV*m/width\n",
    "print('mass=',mass,'\\ntotxsec=',totxsec,'\\nwidth=',width,'\\nctau=',ctau)"
   ]
  },
  {
   "cell_type": "code",
   "execution_count": 6,
   "metadata": {},
   "outputs": [
    {
     "name": "stdout",
     "output_type": "stream",
     "text": [
      "Flong= 0.9673752295900478 Fprompt= 3.3168769050240243e-06\n"
     ]
    }
   ],
   "source": [
    "#Compute the relevant Flong and Fprompt factors:\n",
    "l_inner=1.*mm\n",
    "gb_inner=1.3\n",
    "l_outer=10.*m\n",
    "gb_outer=1.3\n",
    "Flong = np.exp(-(l_outer/(gb_outer*ctau)).asNumber())\n",
    "Fprompt = 1. - np.exp(-(l_inner/(gb_inner*ctau)).asNumber())\n",
    "print(\"Flong=\",Flong,\"Fprompt=\",Fprompt)"
   ]
  },
  {
   "cell_type": "code",
   "execution_count": 7,
   "metadata": {},
   "outputs": [
    {
     "name": "stdout",
     "output_type": "stream",
     "text": [
      "eff1= 0.4392181731317246 eff2= 0.2752386056288934\n"
     ]
    }
   ],
   "source": [
    "#Get efficincies for the relevant models/mass:\n",
    "eff1 = M1effFunc(mass.asNumber(GeV))\n",
    "eff2 = M2effFunc(mass.asNumber(GeV))\n",
    "print('eff1=',eff1,'eff2=',eff2)"
   ]
  },
  {
   "cell_type": "code",
   "execution_count": 8,
   "metadata": {},
   "outputs": [
    {
     "name": "stdout",
     "output_type": "stream",
     "text": [
      "BRmet= 0.48424024 BRhscp= 0.5157597599999999\n"
     ]
    }
   ],
   "source": [
    "#Compute A^0 BR to HSCP and MET (to be compressed into M1/M2 models)\n",
    "BRmet = sum([x.br for x in slha.decays[36].decays if 35 in x.ids])\n",
    "BRhscp = sum([x.br for x in slha.decays[36].decays if 37 in x.ids])\n",
    "print('BRmet=',BRmet,'BRhscp=', BRhscp)"
   ]
  },
  {
   "cell_type": "code",
   "execution_count": 14,
   "metadata": {},
   "outputs": [
    {
     "name": "stdout",
     "output_type": "stream",
     "text": [
      "M1xsec= 0.4567677719602473 M2xsec= 0.7512163770388193\n"
     ]
    }
   ],
   "source": [
    "#Compute the xsecs for the M1 and M2 models (assuming Fprompt ~ 0)\n",
    "M1xsec = 0.*fb\n",
    "M2xsec = 0.*fb\n",
    "for proc in slha.xsections.values():\n",
    "    xsecval = proc.get_xsecs(sqrts=13000)[0].value*pb\n",
    "    proc.pidsfinal = sorted(proc.pidsfinal)\n",
    "    if proc.pidsfinal == [-37,37]:\n",
    "        M1xsec += xsecval*Flong**2\n",
    "    if proc.pidsfinal in [[-37,35],[35,37]]:\n",
    "        M2xsec += xsecval*Flong\n",
    "    if proc.pidsfinal in [[-37,36],[36,37]]:\n",
    "        M1xsec += xsecval*Flong**2*BRhscp\n",
    "        M2xsec += xsecval*Flong*BRmet\n",
    "    if proc.pidsfinal in [[35,36]]:\n",
    "        M2xsec += xsecval*Flong*BRhscp        \n",
    "    if proc.pidsfinal in [[36,36]]:\n",
    "        M1xsec += xsecval*Flong**2*BRhscp**2\n",
    "        M2xsec += 2*xsecval*Flong*BRhscp*BRmet\n",
    "print('M1xsec=',M1xsec.asNumber(fb),'M2xsec=',M2xsec.asNumber(fb))"
   ]
  },
  {
   "cell_type": "code",
   "execution_count": 13,
   "metadata": {},
   "outputs": [
    {
     "name": "stdout",
     "output_type": "stream",
     "text": [
      "M1xsecEff= 0.20062070634582801 M2xsecEff= 0.20676374814175366\n",
      "xsecEff= 0.4073844544875817\n"
     ]
    }
   ],
   "source": [
    "#Compute effective cross-section, including efficiencies (should match theory prediction for EMs)\n",
    "print('M1xsecEff=',(M1xsec*eff1).asNumber(fb),'M2xsecEff=',(M2xsec*eff2).asNumber(fb))\n",
    "print('xsecEff=',(M1xsec*eff1+M2xsec*eff2).asNumber(fb))"
   ]
  },
  {
   "cell_type": "code",
   "execution_count": 11,
   "metadata": {},
   "outputs": [
    {
     "name": "stdout",
     "output_type": "stream",
     "text": [
      "CMS-PAS-EXO-16-036\n",
      "theory prediction= 0.40743791017187686\n",
      "\t tx weight= THSCPM1b 0.20065835103619814\n",
      "\t tx weight= THSCPM2b 0.20677955913567872\n",
      "CMS-PAS-EXO-16-036\n",
      "theory prediction= 0.45686406221243264\n",
      "\t tx weight= THSCPM1b 0.45686406221243264\n"
     ]
    }
   ],
   "source": [
    "#Load SModelS result for 13 TeV:\n",
    "f = slhaFile+'.py'\n",
    "smodelsDict = imp.load_source(f.replace('.py',''),f).smodelsOutput\n",
    "for exp in smodelsDict['ExptRes']:\n",
    "    if exp['AnalysisSqrts (TeV)'] != 13.:\n",
    "        continue\n",
    "    print(exp['AnalysisID'])\n",
    "    print('theory prediction=',exp['theory prediction (fb)'])\n",
    "    for tx in exp['TxNames weights (fb)']:\n",
    "        print('\\t tx weight=',tx,exp['TxNames weights (fb)'][tx])"
   ]
  },
  {
   "cell_type": "code",
   "execution_count": null,
   "metadata": {},
   "outputs": [],
   "source": []
  }
 ],
 "metadata": {
  "kernelspec": {
   "display_name": "Python 3",
   "language": "python",
   "name": "python3"
  },
  "language_info": {
   "codemirror_mode": {
    "name": "ipython",
    "version": 3
   },
   "file_extension": ".py",
   "mimetype": "text/x-python",
   "name": "python",
   "nbconvert_exporter": "python",
   "pygments_lexer": "ipython3",
   "version": "3.6.3"
  }
 },
 "nbformat": 4,
 "nbformat_minor": 2
}
